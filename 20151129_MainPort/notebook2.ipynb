{
 "cells": [
  {
   "cell_type": "code",
   "execution_count": 1,
   "metadata": {},
   "outputs": [
    {
     "name": "stdout",
     "output_type": "stream",
     "text": [
      "number of data points are 61\n"
     ]
    }
   ],
   "source": [
    "with open('201511291739-Copy1.dat') as f:\n",
    "    lines = f.readlines()\n",
    "b = list()\n",
    "print(\"number of data points are\", len(lines))\n",
    "for i, l in enumerate(lines):\n",
    "    a = [float(x) for x in l.strip().split(' ')]\n",
    "    #print(a)\n",
    "    alt_diff = a[3] - a[1]\n",
    "    az_diff = a[2] - a[0]\n",
    "    a.extend([alt_diff, az_diff]) # diff is observed - catalogue (left catalogue, right observed)\n",
    "    b.append(a)"
   ]
  },
  {
   "cell_type": "code",
   "execution_count": 2,
   "metadata": {},
   "outputs": [
    {
     "name": "stdout",
     "output_type": "stream",
     "text": [
      "saved training file\n",
      "saved test file\n"
     ]
    }
   ],
   "source": [
    "with open('trainingset.csv', 'w') as f:\n",
    "    print(\"catalogue_az,catalogue_alt,obs_az,obs_alt,alt_diff,az_diff\", file=f)\n",
    "    for i, row in enumerate(b):\n",
    "        print(','.join([str(entry) for entry in row]), file=f)\n",
    "        if i ==40:\n",
    "            break\n",
    "print('saved training file')\n",
    "with open('testset.csv', 'w') as f:\n",
    "    print(\"catalogue_az,catalogue_alt,obs_az,obs_alt,alt_diff,az_diff\", file=f)\n",
    "    for row in b[41:]:\n",
    "        print(','.join([str(entry) for entry in row]), file=f)\n",
    "print('saved test file')"
   ]
  },
  {
   "cell_type": "code",
   "execution_count": 3,
   "metadata": {},
   "outputs": [
    {
     "data": {
      "text/html": [
       "<div>\n",
       "<style>\n",
       "    .dataframe thead tr:only-child th {\n",
       "        text-align: right;\n",
       "    }\n",
       "\n",
       "    .dataframe thead th {\n",
       "        text-align: left;\n",
       "    }\n",
       "\n",
       "    .dataframe tbody tr th {\n",
       "        vertical-align: top;\n",
       "    }\n",
       "</style>\n",
       "<table border=\"1\" class=\"dataframe\">\n",
       "  <thead>\n",
       "    <tr style=\"text-align: right;\">\n",
       "      <th></th>\n",
       "      <th>catalogue_az</th>\n",
       "      <th>catalogue_alt</th>\n",
       "      <th>obs_az</th>\n",
       "      <th>obs_alt</th>\n",
       "      <th>alt_diff</th>\n",
       "      <th>az_diff</th>\n",
       "    </tr>\n",
       "  </thead>\n",
       "  <tbody>\n",
       "    <tr>\n",
       "      <th>0</th>\n",
       "      <td>321.943317</td>\n",
       "      <td>65.140715</td>\n",
       "      <td>322.798050</td>\n",
       "      <td>65.123063</td>\n",
       "      <td>-0.017652</td>\n",
       "      <td>0.854733</td>\n",
       "    </tr>\n",
       "    <tr>\n",
       "      <th>1</th>\n",
       "      <td>299.520591</td>\n",
       "      <td>61.034865</td>\n",
       "      <td>300.371422</td>\n",
       "      <td>61.022245</td>\n",
       "      <td>-0.012620</td>\n",
       "      <td>0.850831</td>\n",
       "    </tr>\n",
       "    <tr>\n",
       "      <th>2</th>\n",
       "      <td>313.308741</td>\n",
       "      <td>51.468686</td>\n",
       "      <td>314.147220</td>\n",
       "      <td>51.451696</td>\n",
       "      <td>-0.016990</td>\n",
       "      <td>0.838479</td>\n",
       "    </tr>\n",
       "    <tr>\n",
       "      <th>3</th>\n",
       "      <td>290.584998</td>\n",
       "      <td>51.775686</td>\n",
       "      <td>291.424639</td>\n",
       "      <td>51.764533</td>\n",
       "      <td>-0.011153</td>\n",
       "      <td>0.839641</td>\n",
       "    </tr>\n",
       "    <tr>\n",
       "      <th>4</th>\n",
       "      <td>280.146706</td>\n",
       "      <td>40.100441</td>\n",
       "      <td>280.977860</td>\n",
       "      <td>40.091546</td>\n",
       "      <td>-0.008895</td>\n",
       "      <td>0.831154</td>\n",
       "    </tr>\n",
       "  </tbody>\n",
       "</table>\n",
       "</div>"
      ],
      "text/plain": [
       "   catalogue_az  catalogue_alt      obs_az    obs_alt  alt_diff   az_diff\n",
       "0    321.943317      65.140715  322.798050  65.123063 -0.017652  0.854733\n",
       "1    299.520591      61.034865  300.371422  61.022245 -0.012620  0.850831\n",
       "2    313.308741      51.468686  314.147220  51.451696 -0.016990  0.838479\n",
       "3    290.584998      51.775686  291.424639  51.764533 -0.011153  0.839641\n",
       "4    280.146706      40.100441  280.977860  40.091546 -0.008895  0.831154"
      ]
     },
     "execution_count": 3,
     "metadata": {},
     "output_type": "execute_result"
    }
   ],
   "source": [
    "import pandas as pd\n",
    "df = pd.read_csv('trainingset.csv')\n",
    "df.head()"
   ]
  },
  {
   "cell_type": "code",
   "execution_count": 4,
   "metadata": {
    "collapsed": true
   },
   "outputs": [],
   "source": [
    "df.shape\n",
    "df.dtypes\n",
    "import matplotlib.pyplot as plt\n",
    "import numpy as np\n",
    "\n",
    "lat = 29.361232 # degrees\n",
    "get_dec_from_alt = lambda alt, azm, lat : np.degrees(np.arcsin(np.sin(alt)*np.sin(lat)+np.cos(alt)*np.cos(azm)*np.cos(lat)))\n",
    "obs_dec = get_dec_from_alt(*list(map(np.radians, [df.obs_alt,df.obs_az,lat])))"
   ]
  },
  {
   "cell_type": "code",
   "execution_count": 5,
   "metadata": {},
   "outputs": [
    {
     "data": {
      "image/png": "[encoded data removed]",
      "text/plain": [
       "<matplotlib.figure.Figure at 0x7fa1f0c3c9e8>"
      ]
     },
     "metadata": {},
     "output_type": "display_data"
    }
   ],
   "source": [
    "df.plot.scatter(x='catalogue_az', y='az_diff')\n",
    "plt.show()"
   ]
  },
  {
   "cell_type": "code",
   "execution_count": 6,
   "metadata": {},
   "outputs": [
    {
     "data": {
      "image/png": "[encoded data removed]",
      "text/plain": [
       "<matplotlib.figure.Figure at 0x7fa1edd9c320>"
      ]
     },
     "metadata": {},
     "output_type": "display_data"
    }
   ],
   "source": [
    "df.plot.scatter(x='obs_alt', y='alt_diff')\n",
    "plt.show()"
   ]
  },
  {
   "cell_type": "code",
   "execution_count": 7,
   "metadata": {},
   "outputs": [
    {
     "data": {
      "image/png": "[encoded data removed]",
      "text/plain": [
       "<matplotlib.figure.Figure at 0x7fa1edcbd1d0>"
      ]
     },
     "metadata": {},
     "output_type": "display_data"
    }
   ],
   "source": [
    "df.plot.scatter(x='catalogue_az', y='alt_diff')\n",
    "plt.show()"
   ]
  },
  {
   "cell_type": "code",
   "execution_count": 8,
   "metadata": {},
   "outputs": [
    {
     "data": {
      "image/png": "[encoded data removed]",
      "text/plain": [
       "<matplotlib.figure.Figure at 0x7fa1edc248d0>"
      ]
     },
     "metadata": {},
     "output_type": "display_data"
    }
   ],
   "source": [
    "df.plot.scatter(x='catalogue_alt', y='az_diff')\n",
    "plt.show()"
   ]
  },
  {
   "cell_type": "code",
   "execution_count": 9,
   "metadata": {},
   "outputs": [
    {
     "data": {
      "text/html": [
       "<div>\n",
       "<style>\n",
       "    .dataframe thead tr:only-child th {\n",
       "        text-align: right;\n",
       "    }\n",
       "\n",
       "    .dataframe thead th {\n",
       "        text-align: left;\n",
       "    }\n",
       "\n",
       "    .dataframe tbody tr th {\n",
       "        vertical-align: top;\n",
       "    }\n",
       "</style>\n",
       "<table border=\"1\" class=\"dataframe\">\n",
       "  <thead>\n",
       "    <tr style=\"text-align: right;\">\n",
       "      <th></th>\n",
       "      <th>catalogue_az</th>\n",
       "      <th>catalogue_alt</th>\n",
       "      <th>obs_az</th>\n",
       "      <th>obs_alt</th>\n",
       "      <th>alt_diff</th>\n",
       "      <th>az_diff</th>\n",
       "    </tr>\n",
       "  </thead>\n",
       "  <tbody>\n",
       "    <tr>\n",
       "      <th>count</th>\n",
       "      <td>41.000000</td>\n",
       "      <td>41.000000</td>\n",
       "      <td>41.000000</td>\n",
       "      <td>41.000000</td>\n",
       "      <td>41.000000</td>\n",
       "      <td>41.000000</td>\n",
       "    </tr>\n",
       "    <tr>\n",
       "      <th>mean</th>\n",
       "      <td>172.561444</td>\n",
       "      <td>49.920428</td>\n",
       "      <td>173.383596</td>\n",
       "      <td>49.904817</td>\n",
       "      <td>-0.015611</td>\n",
       "      <td>0.822152</td>\n",
       "    </tr>\n",
       "    <tr>\n",
       "      <th>std</th>\n",
       "      <td>115.863462</td>\n",
       "      <td>16.977601</td>\n",
       "      <td>115.876888</td>\n",
       "      <td>16.978053</td>\n",
       "      <td>0.009070</td>\n",
       "      <td>0.024621</td>\n",
       "    </tr>\n",
       "    <tr>\n",
       "      <th>min</th>\n",
       "      <td>1.110432</td>\n",
       "      <td>18.389042</td>\n",
       "      <td>1.961796</td>\n",
       "      <td>18.389464</td>\n",
       "      <td>-0.029158</td>\n",
       "      <td>0.759347</td>\n",
       "    </tr>\n",
       "    <tr>\n",
       "      <th>25%</th>\n",
       "      <td>82.249012</td>\n",
       "      <td>36.674050</td>\n",
       "      <td>83.059016</td>\n",
       "      <td>36.659356</td>\n",
       "      <td>-0.024052</td>\n",
       "      <td>0.807679</td>\n",
       "    </tr>\n",
       "    <tr>\n",
       "      <th>50%</th>\n",
       "      <td>147.133974</td>\n",
       "      <td>51.775686</td>\n",
       "      <td>147.933937</td>\n",
       "      <td>51.764533</td>\n",
       "      <td>-0.016859</td>\n",
       "      <td>0.816589</td>\n",
       "    </tr>\n",
       "    <tr>\n",
       "      <th>75%</th>\n",
       "      <td>294.893625</td>\n",
       "      <td>65.140715</td>\n",
       "      <td>295.717277</td>\n",
       "      <td>65.123063</td>\n",
       "      <td>-0.008445</td>\n",
       "      <td>0.831450</td>\n",
       "    </tr>\n",
       "    <tr>\n",
       "      <th>max</th>\n",
       "      <td>349.392101</td>\n",
       "      <td>80.745721</td>\n",
       "      <td>350.223551</td>\n",
       "      <td>80.738942</td>\n",
       "      <td>0.000422</td>\n",
       "      <td>0.880618</td>\n",
       "    </tr>\n",
       "  </tbody>\n",
       "</table>\n",
       "</div>"
      ],
      "text/plain": [
       "       catalogue_az  catalogue_alt      obs_az    obs_alt   alt_diff  \\\n",
       "count     41.000000      41.000000   41.000000  41.000000  41.000000   \n",
       "mean     172.561444      49.920428  173.383596  49.904817  -0.015611   \n",
       "std      115.863462      16.977601  115.876888  16.978053   0.009070   \n",
       "min        1.110432      18.389042    1.961796  18.389464  -0.029158   \n",
       "25%       82.249012      36.674050   83.059016  36.659356  -0.024052   \n",
       "50%      147.133974      51.775686  147.933937  51.764533  -0.016859   \n",
       "75%      294.893625      65.140715  295.717277  65.123063  -0.008445   \n",
       "max      349.392101      80.745721  350.223551  80.738942   0.000422   \n",
       "\n",
       "         az_diff  \n",
       "count  41.000000  \n",
       "mean    0.822152  \n",
       "std     0.024621  \n",
       "min     0.759347  \n",
       "25%     0.807679  \n",
       "50%     0.816589  \n",
       "75%     0.831450  \n",
       "max     0.880618  "
      ]
     },
     "execution_count": 9,
     "metadata": {},
     "output_type": "execute_result"
    }
   ],
   "source": [
    "df.describe()"
   ]
  },
  {
   "cell_type": "code",
   "execution_count": 10,
   "metadata": {},
   "outputs": [
    {
     "data": {
      "text/html": [
       "<div>\n",
       "<style>\n",
       "    .dataframe thead tr:only-child th {\n",
       "        text-align: right;\n",
       "    }\n",
       "\n",
       "    .dataframe thead th {\n",
       "        text-align: left;\n",
       "    }\n",
       "\n",
       "    .dataframe tbody tr th {\n",
       "        vertical-align: top;\n",
       "    }\n",
       "</style>\n",
       "<table border=\"1\" class=\"dataframe\">\n",
       "  <thead>\n",
       "    <tr style=\"text-align: right;\">\n",
       "      <th></th>\n",
       "      <th>catalogue_az</th>\n",
       "      <th>catalogue_alt</th>\n",
       "      <th>obs_az</th>\n",
       "      <th>obs_alt</th>\n",
       "      <th>alt_diff</th>\n",
       "      <th>az_diff</th>\n",
       "    </tr>\n",
       "  </thead>\n",
       "  <tbody>\n",
       "    <tr>\n",
       "      <th>catalogue_az</th>\n",
       "      <td>1.000000</td>\n",
       "      <td>0.024698</td>\n",
       "      <td>1.000000</td>\n",
       "      <td>0.024871</td>\n",
       "      <td>0.325689</td>\n",
       "      <td>0.545227</td>\n",
       "    </tr>\n",
       "    <tr>\n",
       "      <th>catalogue_alt</th>\n",
       "      <td>0.024698</td>\n",
       "      <td>1.000000</td>\n",
       "      <td>0.024742</td>\n",
       "      <td>1.000000</td>\n",
       "      <td>0.049611</td>\n",
       "      <td>0.218616</td>\n",
       "    </tr>\n",
       "    <tr>\n",
       "      <th>obs_az</th>\n",
       "      <td>1.000000</td>\n",
       "      <td>0.024742</td>\n",
       "      <td>1.000000</td>\n",
       "      <td>0.024915</td>\n",
       "      <td>0.325617</td>\n",
       "      <td>0.545376</td>\n",
       "    </tr>\n",
       "    <tr>\n",
       "      <th>obs_alt</th>\n",
       "      <td>0.024871</td>\n",
       "      <td>1.000000</td>\n",
       "      <td>0.024915</td>\n",
       "      <td>1.000000</td>\n",
       "      <td>0.050144</td>\n",
       "      <td>0.218524</td>\n",
       "    </tr>\n",
       "    <tr>\n",
       "      <th>alt_diff</th>\n",
       "      <td>0.325689</td>\n",
       "      <td>0.049611</td>\n",
       "      <td>0.325617</td>\n",
       "      <td>0.050144</td>\n",
       "      <td>1.000000</td>\n",
       "      <td>-0.161170</td>\n",
       "    </tr>\n",
       "    <tr>\n",
       "      <th>az_diff</th>\n",
       "      <td>0.545227</td>\n",
       "      <td>0.218616</td>\n",
       "      <td>0.545376</td>\n",
       "      <td>0.218524</td>\n",
       "      <td>-0.161170</td>\n",
       "      <td>1.000000</td>\n",
       "    </tr>\n",
       "  </tbody>\n",
       "</table>\n",
       "</div>"
      ],
      "text/plain": [
       "               catalogue_az  catalogue_alt    obs_az   obs_alt  alt_diff  \\\n",
       "catalogue_az       1.000000       0.024698  1.000000  0.024871  0.325689   \n",
       "catalogue_alt      0.024698       1.000000  0.024742  1.000000  0.049611   \n",
       "obs_az             1.000000       0.024742  1.000000  0.024915  0.325617   \n",
       "obs_alt            0.024871       1.000000  0.024915  1.000000  0.050144   \n",
       "alt_diff           0.325689       0.049611  0.325617  0.050144  1.000000   \n",
       "az_diff            0.545227       0.218616  0.545376  0.218524 -0.161170   \n",
       "\n",
       "                az_diff  \n",
       "catalogue_az   0.545227  \n",
       "catalogue_alt  0.218616  \n",
       "obs_az         0.545376  \n",
       "obs_alt        0.218524  \n",
       "alt_diff      -0.161170  \n",
       "az_diff        1.000000  "
      ]
     },
     "execution_count": 10,
     "metadata": {},
     "output_type": "execute_result"
    }
   ],
   "source": [
    "df.corr()"
   ]
  },
  {
   "cell_type": "code",
   "execution_count": 11,
   "metadata": {
    "collapsed": true
   },
   "outputs": [],
   "source": [
    "from sklearn import linear_model, metrics"
   ]
  },
  {
   "cell_type": "code",
   "execution_count": null,
   "metadata": {
    "collapsed": true
   },
   "outputs": [],
   "source": []
  },
  {
   "cell_type": "code",
   "execution_count": 12,
   "metadata": {},
   "outputs": [
    {
     "name": "stdout",
     "output_type": "stream",
     "text": [
      "(41, 5)\n"
     ]
    },
    {
     "data": {
      "text/html": [
       "<div>\n",
       "<style>\n",
       "    .dataframe thead tr:only-child th {\n",
       "        text-align: right;\n",
       "    }\n",
       "\n",
       "    .dataframe thead th {\n",
       "        text-align: left;\n",
       "    }\n",
       "\n",
       "    .dataframe tbody tr th {\n",
       "        vertical-align: top;\n",
       "    }\n",
       "</style>\n",
       "<table border=\"1\" class=\"dataframe\">\n",
       "  <thead>\n",
       "    <tr style=\"text-align: right;\">\n",
       "      <th></th>\n",
       "      <th>X1</th>\n",
       "      <th>X2</th>\n",
       "      <th>X3</th>\n",
       "      <th>X4</th>\n",
       "      <th>X5</th>\n",
       "    </tr>\n",
       "  </thead>\n",
       "  <tbody>\n",
       "    <tr>\n",
       "      <th>0</th>\n",
       "      <td>-2.377156</td>\n",
       "      <td>-2.156588</td>\n",
       "      <td>1.717743</td>\n",
       "      <td>-1.303930</td>\n",
       "      <td>0.268854</td>\n",
       "    </tr>\n",
       "    <tr>\n",
       "      <th>1</th>\n",
       "      <td>-2.064111</td>\n",
       "      <td>-1.805701</td>\n",
       "      <td>0.912969</td>\n",
       "      <td>-1.557897</td>\n",
       "      <td>-0.488730</td>\n",
       "    </tr>\n",
       "    <tr>\n",
       "      <th>2</th>\n",
       "      <td>-1.604688</td>\n",
       "      <td>-1.254999</td>\n",
       "      <td>0.874112</td>\n",
       "      <td>-0.900528</td>\n",
       "      <td>-0.029763</td>\n",
       "    </tr>\n",
       "    <tr>\n",
       "      <th>3</th>\n",
       "      <td>-1.615784</td>\n",
       "      <td>-1.269156</td>\n",
       "      <td>0.463594</td>\n",
       "      <td>-1.181456</td>\n",
       "      <td>-0.733145</td>\n",
       "    </tr>\n",
       "    <tr>\n",
       "      <th>4</th>\n",
       "      <td>-1.307161</td>\n",
       "      <td>-0.841826</td>\n",
       "      <td>0.160309</td>\n",
       "      <td>-0.826421</td>\n",
       "      <td>-0.927473</td>\n",
       "    </tr>\n",
       "  </tbody>\n",
       "</table>\n",
       "</div>"
      ],
      "text/plain": [
       "         X1        X2        X3        X4        X5\n",
       "0 -2.377156 -2.156588  1.717743 -1.303930  0.268854\n",
       "1 -2.064111 -1.805701  0.912969 -1.557897 -0.488730\n",
       "2 -1.604688 -1.254999  0.874112 -0.900528 -0.029763\n",
       "3 -1.615784 -1.269156  0.463594 -1.181456 -0.733145\n",
       "4 -1.307161 -0.841826  0.160309 -0.826421 -0.927473"
      ]
     },
     "execution_count": 12,
     "metadata": {},
     "output_type": "execute_result"
    }
   ],
   "source": [
    "X1 = -1.0/np.cos(np.radians(list(df['obs_alt'])))\n",
    "X2 = -1.0*np.tan(np.radians(list(df['obs_alt'])))\n",
    "X3 = np.cos(np.radians(list(df['obs_az']))) * np.tan(np.radians(list(df['obs_alt'])))\n",
    "X4 = np.sin(np.radians(list(df['obs_az']))) * np.tan(np.radians(list(df['obs_alt'])))\n",
    "X5 = np.cos(2.0*np.radians(list(df['obs_az'])))\n",
    "X = np.array([X1, X2, X3, X4, X5])\n",
    "X = X.T\n",
    "print(X.shape)\n",
    "df2 = pd.DataFrame(X, columns=['X1', 'X2', 'X3', 'X4', 'X5'])\n",
    "df2.head()"
   ]
  },
  {
   "cell_type": "code",
   "execution_count": 13,
   "metadata": {},
   "outputs": [
    {
     "data": {
      "text/html": [
       "<div>\n",
       "<style>\n",
       "    .dataframe thead tr:only-child th {\n",
       "        text-align: right;\n",
       "    }\n",
       "\n",
       "    .dataframe thead th {\n",
       "        text-align: left;\n",
       "    }\n",
       "\n",
       "    .dataframe tbody tr th {\n",
       "        vertical-align: top;\n",
       "    }\n",
       "</style>\n",
       "<table border=\"1\" class=\"dataframe\">\n",
       "  <thead>\n",
       "    <tr style=\"text-align: right;\">\n",
       "      <th></th>\n",
       "      <th>catalogue_az</th>\n",
       "      <th>catalogue_alt</th>\n",
       "      <th>obs_az</th>\n",
       "      <th>obs_alt</th>\n",
       "      <th>alt_diff</th>\n",
       "      <th>az_diff</th>\n",
       "    </tr>\n",
       "  </thead>\n",
       "  <tbody>\n",
       "    <tr>\n",
       "      <th>0</th>\n",
       "      <td>321.943317</td>\n",
       "      <td>65.140715</td>\n",
       "      <td>322.798050</td>\n",
       "      <td>65.123063</td>\n",
       "      <td>-0.017652</td>\n",
       "      <td>0.854733</td>\n",
       "    </tr>\n",
       "    <tr>\n",
       "      <th>1</th>\n",
       "      <td>299.520591</td>\n",
       "      <td>61.034865</td>\n",
       "      <td>300.371422</td>\n",
       "      <td>61.022245</td>\n",
       "      <td>-0.012620</td>\n",
       "      <td>0.850831</td>\n",
       "    </tr>\n",
       "    <tr>\n",
       "      <th>2</th>\n",
       "      <td>313.308741</td>\n",
       "      <td>51.468686</td>\n",
       "      <td>314.147220</td>\n",
       "      <td>51.451696</td>\n",
       "      <td>-0.016990</td>\n",
       "      <td>0.838479</td>\n",
       "    </tr>\n",
       "    <tr>\n",
       "      <th>3</th>\n",
       "      <td>290.584998</td>\n",
       "      <td>51.775686</td>\n",
       "      <td>291.424639</td>\n",
       "      <td>51.764533</td>\n",
       "      <td>-0.011153</td>\n",
       "      <td>0.839641</td>\n",
       "    </tr>\n",
       "    <tr>\n",
       "      <th>4</th>\n",
       "      <td>280.146706</td>\n",
       "      <td>40.100441</td>\n",
       "      <td>280.977860</td>\n",
       "      <td>40.091546</td>\n",
       "      <td>-0.008895</td>\n",
       "      <td>0.831154</td>\n",
       "    </tr>\n",
       "  </tbody>\n",
       "</table>\n",
       "</div>"
      ],
      "text/plain": [
       "   catalogue_az  catalogue_alt      obs_az    obs_alt  alt_diff   az_diff\n",
       "0    321.943317      65.140715  322.798050  65.123063 -0.017652  0.854733\n",
       "1    299.520591      61.034865  300.371422  61.022245 -0.012620  0.850831\n",
       "2    313.308741      51.468686  314.147220  51.451696 -0.016990  0.838479\n",
       "3    290.584998      51.775686  291.424639  51.764533 -0.011153  0.839641\n",
       "4    280.146706      40.100441  280.977860  40.091546 -0.008895  0.831154"
      ]
     },
     "execution_count": 13,
     "metadata": {},
     "output_type": "execute_result"
    }
   ],
   "source": [
    "df.head()"
   ]
  },
  {
   "cell_type": "code",
   "execution_count": 14,
   "metadata": {},
   "outputs": [
    {
     "data": {
      "image/png": "[encoded data removed]",
      "text/plain": [
       "<matplotlib.figure.Figure at 0x7fa1d8e292e8>"
      ]
     },
     "metadata": {},
     "output_type": "display_data"
    }
   ],
   "source": [
    "plt.plot(X4, df.az_diff, 'bo')\n",
    "plt.show()"
   ]
  },
  {
   "cell_type": "code",
   "execution_count": 15,
   "metadata": {
    "collapsed": true
   },
   "outputs": [],
   "source": [
    "y = np.array(df.az_diff)\n",
    "regr = linear_model.LinearRegression()\n",
    "regr.fit(X, y)\n",
    "y_predicted_training = regr.predict(X)"
   ]
  },
  {
   "cell_type": "code",
   "execution_count": 16,
   "metadata": {},
   "outputs": [
    {
     "data": {
      "text/plain": [
       "array([-0.01384457,  0.0062163 ,  0.00678738, -0.01385585, -0.00034571])"
      ]
     },
     "execution_count": 16,
     "metadata": {},
     "output_type": "execute_result"
    }
   ],
   "source": [
    "regr.coef_"
   ]
  },
  {
   "cell_type": "code",
   "execution_count": 17,
   "metadata": {},
   "outputs": [
    {
     "data": {
      "text/plain": [
       "0.80538483370234704"
      ]
     },
     "execution_count": 17,
     "metadata": {},
     "output_type": "execute_result"
    }
   ],
   "source": [
    "regr.intercept_"
   ]
  },
  {
   "cell_type": "code",
   "execution_count": 18,
   "metadata": {},
   "outputs": [
    {
     "data": {
      "image/png": "[encoded data removed]",
      "text/plain": [
       "<matplotlib.figure.Figure at 0x7fa1d8e46f28>"
      ]
     },
     "metadata": {},
     "output_type": "display_data"
    },
    {
     "data": {
      "image/png": "[encoded data removed]",
      "text/plain": [
       "<matplotlib.figure.Figure at 0x7fa1d6d864a8>"
      ]
     },
     "metadata": {},
     "output_type": "display_data"
    },
    {
     "data": {
      "image/png": "[encoded data removed]",
      "text/plain": [
       "<matplotlib.figure.Figure at 0x7fa1d6ce52b0>"
      ]
     },
     "metadata": {},
     "output_type": "display_data"
    }
   ],
   "source": [
    "plt.plot(y_predicted_training, (y - y_predicted_training)*10, 'bo')\n",
    "plt.ylabel(\"residues * 10\")\n",
    "plt.axis('equal')\n",
    "plt.show()\n",
    "\n",
    "\n",
    "# Residual analysis to improve TRAIN MODEL\n",
    "plt.plot(df.obs_az, (y-y_predicted_training)*100000, 'ro')\n",
    "plt.axis('equal')\n",
    "plt.title('residual vs A')\n",
    "plt.xlabel('Az')\n",
    "plt.ylabel('residual in milli as')\n",
    "plt.show()\n",
    "\n",
    "plt.plot(df.obs_alt, (y-y_predicted_training)*10000, 'go')\n",
    "plt.axis('equal')\n",
    "plt.title('residual vs E')\n",
    "plt.xlabel('Alt')\n",
    "plt.ylabel('residual in milli arcsec')\n",
    "plt.show()"
   ]
  },
  {
   "cell_type": "code",
   "execution_count": 19,
   "metadata": {},
   "outputs": [
    {
     "data": {
      "text/plain": [
       "0.99980337916034023"
      ]
     },
     "execution_count": 19,
     "metadata": {},
     "output_type": "execute_result"
    }
   ],
   "source": [
    "regr.score(X, y) # Gives R^2 (no easy way in sklearn for p-value and F-statistic)"
   ]
  },
  {
   "cell_type": "code",
   "execution_count": 20,
   "metadata": {},
   "outputs": [
    {
     "name": "stderr",
     "output_type": "stream",
     "text": [
      "/usr/local/lib/python3.4/dist-packages/sklearn/utils/deprecation.py:70: DeprecationWarning: Function residues_ is deprecated; ``residues_`` is deprecated and will be removed in 0.19\n",
      "  warnings.warn(msg, category=DeprecationWarning)\n"
     ]
    },
    {
     "data": {
      "text/plain": [
       "4.7676479997005115e-06"
      ]
     },
     "execution_count": 20,
     "metadata": {},
     "output_type": "execute_result"
    }
   ],
   "source": [
    "RSS = np.sum(np.square(y - y_predicted_training))\n",
    "regr.residues_"
   ]
  },
  {
   "cell_type": "code",
   "execution_count": 21,
   "metadata": {},
   "outputs": [
    {
     "name": "stdout",
     "output_type": "stream",
     "text": [
      "0.000363915741152\n"
     ]
    }
   ],
   "source": [
    "RSE = np.sqrt(RSS/(41-4-1)) # RSE = sqrt(RSS/(n-p-1))\n",
    "print(RSE)"
   ]
  },
  {
   "cell_type": "code",
   "execution_count": 22,
   "metadata": {},
   "outputs": [
    {
     "data": {
      "text/plain": [
       "0.99980337916034023"
      ]
     },
     "execution_count": 22,
     "metadata": {},
     "output_type": "execute_result"
    }
   ],
   "source": [
    "metrics.r2_score(y, y_predicted_training)"
   ]
  },
  {
   "cell_type": "code",
   "execution_count": 23,
   "metadata": {},
   "outputs": [
    {
     "data": {
      "text/plain": [
       "(array([  8.80974514e-02,   2.12940534e-01,   6.60935458e+01,\n",
       "          1.70378169e+02,   5.84213579e-01]),\n",
       " array([  7.68185006e-01,   6.47035875e-01,   6.35783181e-10,\n",
       "          8.19571732e-16,   4.49265537e-01]))"
      ]
     },
     "execution_count": 23,
     "metadata": {},
     "output_type": "execute_result"
    }
   ],
   "source": [
    "from sklearn import feature_selection\n",
    "feature_selection.f_regression(X,y)"
   ]
  },
  {
   "cell_type": "code",
   "execution_count": 24,
   "metadata": {},
   "outputs": [
    {
     "name": "stdout",
     "output_type": "stream",
     "text": [
      "45764.3779165\n"
     ]
    },
    {
     "data": {
      "text/plain": [
       "array([-0.01384457,  0.0062163 ,  0.00678738, -0.01385585, -0.00034571])"
      ]
     },
     "execution_count": 24,
     "metadata": {},
     "output_type": "execute_result"
    }
   ],
   "source": [
    "TSS = np.sum(np.square(y-np.mean(y)))\n",
    "f_stat = ((TSS-RSS)/4)/(RSS/(41-4-1))\n",
    "print(f_stat)\n",
    "regr.coef_"
   ]
  },
  {
   "cell_type": "code",
   "execution_count": 25,
   "metadata": {
    "scrolled": false
   },
   "outputs": [
    {
     "name": "stdout",
     "output_type": "stream",
     "text": [
      "RSS is :  3.60620103781e-05\n",
      "RSE is :  0.00155052701531\n",
      "R^2 score is :  0.995722772137\n",
      "TSS is :  0.00843116418775\n",
      "F-statistic is :  872.986082447\n"
     ]
    },
    {
     "data": {
      "image/png": "[encoded data removed]",
      "text/plain": [
       "<matplotlib.figure.Figure at 0x7fa1d8e027b8>"
      ]
     },
     "metadata": {},
     "output_type": "display_data"
    }
   ],
   "source": [
    "# repeating above steps for test file - t suffix is for test\n",
    "# here we use catalogue values to find out corrections in encoder values then compare with\n",
    "# what encoder actually had for the star to assess accuracy of the fit\n",
    "dft = pd.read_csv('testset.csv')\n",
    "X1t = -1.0/np.cos(np.radians(list(dft['catalogue_alt'])))\n",
    "X2t = -1.0*np.tan(np.radians(list(dft['catalogue_alt'])))\n",
    "X3t = np.cos(np.radians(list(dft['catalogue_az']))) * np.tan(np.radians(list(dft['catalogue_alt'])))\n",
    "X4t = np.sin(np.radians(list(dft['catalogue_az']))) * np.tan(np.radians(list(dft['catalogue_alt'])))\n",
    "X5t = np.cos(2.0*np.radians(list(dft['catalogue_az'])))\n",
    "Xt = np.array([X1t, X2t, X3t, X4t, X5t])\n",
    "Xt = Xt.T\n",
    "#print(Xt.shape)\n",
    "yt = np.array(dft.az_diff)\n",
    "\n",
    "y_predicted_test = regr.predict(Xt)\n",
    "\n",
    "RSS = np.sum(np.square(yt - y_predicted_test))\n",
    "print(\"RSS is : \", RSS)\n",
    "RSE = np.sqrt(RSS/(20-4-1)) # RSE = sqrt(RSS/(n-p-1))\n",
    "print(\"RSE is : \", RSE)\n",
    "print(\"R^2 score is : \", regr.score(Xt,yt))\n",
    "TSS = np.sum(np.square(yt - np.mean(yt)))\n",
    "print(\"TSS is : \", TSS)\n",
    "f_stat = ((TSS-RSS)/4)/(RSS/(20-4-1))\n",
    "print(\"F-statistic is : \", f_stat)\n",
    "plt.plot(y_predicted_test, yt - y_predicted_test, 'bo')\n",
    "plt.axis('equal')\n",
    "plt.xlabel('correction predicted')\n",
    "plt.ylabel('residual correction')\n",
    "plt.show()"
   ]
  },
  {
   "cell_type": "code",
   "execution_count": 26,
   "metadata": {},
   "outputs": [
    {
     "name": "stdout",
     "output_type": "stream",
     "text": [
      "RMS of azimuth in arcsec 4.83406482425\n",
      "RMS of horizontal dist in arc sec 2.29829256398\n"
     ]
    }
   ],
   "source": [
    "RMS = np.sqrt(RSS/20)\n",
    "print(\"RMS of azimuth in arcsec\", RMS*3600) # Accuracy of azimuth in arc seconds\n",
    "\n",
    "# horizontal distance inaccuracy\n",
    "cos_alt = np.cos(dft.catalogue_alt)\n",
    "dist_h = yt*cos_alt\n",
    "dist_h_predicted = y_predicted_test * cos_alt\n",
    "\n",
    "dist_h_RMS = np.sqrt(np.mean(np.square(dist_h - dist_h_predicted)))\n",
    "print(\"RMS of horizontal dist in arc sec\",dist_h_RMS*3600)"
   ]
  },
  {
   "cell_type": "code",
   "execution_count": 27,
   "metadata": {},
   "outputs": [
    {
     "data": {
      "text/html": [
       "<div>\n",
       "<style>\n",
       "    .dataframe thead tr:only-child th {\n",
       "        text-align: right;\n",
       "    }\n",
       "\n",
       "    .dataframe thead th {\n",
       "        text-align: left;\n",
       "    }\n",
       "\n",
       "    .dataframe tbody tr th {\n",
       "        vertical-align: top;\n",
       "    }\n",
       "</style>\n",
       "<table border=\"1\" class=\"dataframe\">\n",
       "  <thead>\n",
       "    <tr style=\"text-align: right;\">\n",
       "      <th></th>\n",
       "      <th>X1</th>\n",
       "      <th>X2</th>\n",
       "      <th>X3</th>\n",
       "      <th>X4</th>\n",
       "      <th>X5</th>\n",
       "    </tr>\n",
       "  </thead>\n",
       "  <tbody>\n",
       "    <tr>\n",
       "      <th>0</th>\n",
       "      <td>-2.377156</td>\n",
       "      <td>-2.156588</td>\n",
       "      <td>1.717743</td>\n",
       "      <td>-1.303930</td>\n",
       "      <td>0.268854</td>\n",
       "    </tr>\n",
       "    <tr>\n",
       "      <th>1</th>\n",
       "      <td>-2.064111</td>\n",
       "      <td>-1.805701</td>\n",
       "      <td>0.912969</td>\n",
       "      <td>-1.557897</td>\n",
       "      <td>-0.488730</td>\n",
       "    </tr>\n",
       "    <tr>\n",
       "      <th>2</th>\n",
       "      <td>-1.604688</td>\n",
       "      <td>-1.254999</td>\n",
       "      <td>0.874112</td>\n",
       "      <td>-0.900528</td>\n",
       "      <td>-0.029763</td>\n",
       "    </tr>\n",
       "    <tr>\n",
       "      <th>3</th>\n",
       "      <td>-1.615784</td>\n",
       "      <td>-1.269156</td>\n",
       "      <td>0.463594</td>\n",
       "      <td>-1.181456</td>\n",
       "      <td>-0.733145</td>\n",
       "    </tr>\n",
       "    <tr>\n",
       "      <th>4</th>\n",
       "      <td>-1.307161</td>\n",
       "      <td>-0.841826</td>\n",
       "      <td>0.160309</td>\n",
       "      <td>-0.826421</td>\n",
       "      <td>-0.927473</td>\n",
       "    </tr>\n",
       "  </tbody>\n",
       "</table>\n",
       "</div>"
      ],
      "text/plain": [
       "         X1        X2        X3        X4        X5\n",
       "0 -2.377156 -2.156588  1.717743 -1.303930  0.268854\n",
       "1 -2.064111 -1.805701  0.912969 -1.557897 -0.488730\n",
       "2 -1.604688 -1.254999  0.874112 -0.900528 -0.029763\n",
       "3 -1.615784 -1.269156  0.463594 -1.181456 -0.733145\n",
       "4 -1.307161 -0.841826  0.160309 -0.826421 -0.927473"
      ]
     },
     "execution_count": 27,
     "metadata": {},
     "output_type": "execute_result"
    }
   ],
   "source": [
    "df2.head()"
   ]
  },
  {
   "cell_type": "code",
   "execution_count": 28,
   "metadata": {},
   "outputs": [
    {
     "name": "stdout",
     "output_type": "stream",
     "text": [
      "Summary for training set\n",
      "\n",
      "RSS is :  6.31589129421e-07\n",
      "RSE is :  0.00013245430338\n",
      "R^2 score is :  0.999808042694\n",
      "TSS is :  0.00329025835878\n",
      "F-statistic is :  46876.4257453\n"
     ]
    },
    {
     "data": {
      "image/png": "[encoded data removed]",
      "text/plain": [
       "<matplotlib.figure.Figure at 0x7fa1d6c5ed68>"
      ]
     },
     "metadata": {},
     "output_type": "display_data"
    },
    {
     "name": "stdout",
     "output_type": "stream",
     "text": [
      "Summary for test set\n",
      "\n",
      "RSS is :  6.8999412712e-06\n",
      "RSE is :  0.000678230111944\n",
      "R^2 score is :  0.994491335793\n",
      "TSS is :  0.0012525616032\n",
      "F-statistic is :  676.995795852\n"
     ]
    },
    {
     "data": {
      "image/png": "[encoded data removed]",
      "text/plain": [
       "<matplotlib.figure.Figure at 0x7fa1d6bd4b38>"
      ]
     },
     "metadata": {},
     "output_type": "display_data"
    },
    {
     "name": "stdout",
     "output_type": "stream",
     "text": [
      "RMS of alt in arcsec 2.1145122236\n",
      "RMS of vertcial dist in arc sec 2.1145122236\n"
     ]
    }
   ],
   "source": [
    "# train model for altitude now\n",
    "W1 = -1.0*np.sin(np.radians(list(df['obs_az'])))\n",
    "W2 = np.cos(np.radians(list(df['obs_az'])))\n",
    "# Adding tube flexure\n",
    "W3 = np.cos(np.radians(list(df['obs_alt'])))\n",
    "# Adding harmonics\n",
    "W4 = np.sin(2.0*np.radians(list(df['obs_alt'])))\n",
    "W5 = np.sin(2.0*np.radians(list(df['obs_az'])))\n",
    "W = np.array([W1, W2, W3, W4, W5])\n",
    "W = W.T\n",
    "\n",
    "z = np.array(df.alt_diff)\n",
    "\n",
    "regr2 = linear_model.LinearRegression()\n",
    "regr2.fit(W, z)\n",
    "z_predicted_training = regr2.predict(W)\n",
    "\n",
    "###########################################\n",
    "print(\"Summary for training set\\n\")\n",
    "RSS = np.sum(np.square(z - z_predicted_training))\n",
    "print(\"RSS is : \", RSS)\n",
    "RSE = np.sqrt(RSS/(41-4-1)) # RSE = sqrt(RSS/(n-p-1))\n",
    "print(\"RSE is : \", RSE)\n",
    "print(\"R^2 score is : \", regr2.score(W,z))\n",
    "TSS = np.sum(np.square(z - np.mean(z)))\n",
    "print(\"TSS is : \", TSS)\n",
    "f_stat = ((TSS-RSS)/4)/(RSS/(41-4-1))\n",
    "print(\"F-statistic is : \", f_stat)\n",
    "plt.plot(z_predicted_training, z - z_predicted_training, 'bo')\n",
    "plt.axis('equal')\n",
    "plt.title('Residual plot for altitude training session')\n",
    "plt.xlabel('correction predicted')\n",
    "plt.ylabel('residual correction')\n",
    "plt.show()\n",
    "###########################################\n",
    "\n",
    "# testing on rest of the data\n",
    "W1t = -1.0*np.sin(np.radians(list(dft['catalogue_az'])))\n",
    "W2t = np.cos(np.radians(list(dft['catalogue_az'])))\n",
    "W3t = np.cos(np.radians(list(dft['catalogue_alt'])))\n",
    "W4t = np.sin(2.0*np.radians(list(dft['catalogue_alt'])))\n",
    "W5t = np.sin(2.0*np.radians(list(dft['catalogue_az'])))\n",
    "Wt = np.array([W1t, W2t, W3t, W4t, W5t])\n",
    "Wt = Wt.T\n",
    "\n",
    "zt = np.array(dft.alt_diff)\n",
    "#predict\n",
    "z_predicted_test= regr2.predict(Wt)\n",
    "\n",
    "###########################################\n",
    "print(\"Summary for test set\\n\")\n",
    "RSS = np.sum(np.square(zt - z_predicted_test))\n",
    "print(\"RSS is : \", RSS)\n",
    "RSE = np.sqrt(RSS/(20-4-1)) # RSE = sqrt(RSS/(n-p-1))\n",
    "print(\"RSE is : \", RSE)\n",
    "print(\"R^2 score is : \", regr2.score(Wt,zt))\n",
    "TSS = np.sum(np.square(zt - np.mean(zt)))\n",
    "print(\"TSS is : \", TSS)\n",
    "f_stat = ((TSS-RSS)/4)/(RSS/(20-4-1))\n",
    "print(\"F-statistic is : \", f_stat)\n",
    "plt.plot(z_predicted_test, zt - z_predicted_test, 'bo')\n",
    "plt.axis('equal')\n",
    "plt.title('Residual plot for altitude test session')\n",
    "plt.xlabel('correction predicted')\n",
    "plt.ylabel('residual correction')\n",
    "plt.show()\n",
    "\n",
    "RMS = np.sqrt(RSS/20)\n",
    "print(\"RMS of alt in arcsec\", RMS*3600) # Accuracy of azimuth in arc seconds\n",
    "\n",
    "# vertical distance inaccuracy\n",
    "dist_v = zt\n",
    "dist_v_predicted = z_predicted_test\n",
    "\n",
    "dist_v_RMS = np.sqrt(np.mean(np.square(dist_v - dist_v_predicted)))\n",
    "print(\"RMS of vertcial dist in arc sec\",dist_v_RMS*3600)\n",
    "###########################################"
   ]
  },
  {
   "cell_type": "code",
   "execution_count": 29,
   "metadata": {},
   "outputs": [
    {
     "data": {
      "image/png": "[encoded data removed]",
      "text/plain": [
       "<matplotlib.figure.Figure at 0x7fa1d6d07ac8>"
      ]
     },
     "metadata": {},
     "output_type": "display_data"
    },
    {
     "data": {
      "image/png": "[encoded data removed]",
      "text/plain": [
       "<matplotlib.figure.Figure at 0x7fa1d6bf5908>"
      ]
     },
     "metadata": {},
     "output_type": "display_data"
    }
   ],
   "source": [
    "#residuals for training session\n",
    "# dE vs Az\n",
    "plt.plot(df.obs_az, (z-z_predicted_training)*10000, 'ro')\n",
    "plt.axis('equal')\n",
    "plt.title('residual predicted vs A')\n",
    "plt.show()\n",
    "\n",
    "# dE vs Alt\n",
    "plt.plot(df.obs_alt, (z-z_predicted_training)*10000, 'yo')\n",
    "plt.axis('equal')\n",
    "plt.title('residual vs E')\n",
    "plt.show()"
   ]
  },
  {
   "cell_type": "code",
   "execution_count": 30,
   "metadata": {},
   "outputs": [
    {
     "data": {
      "text/plain": [
       "array([ 0.00689635, -0.01341535, -0.00241806, -0.00489107, -0.00071711])"
      ]
     },
     "execution_count": 30,
     "metadata": {},
     "output_type": "execute_result"
    }
   ],
   "source": [
    "regr2.coef_"
   ]
  },
  {
   "cell_type": "code",
   "execution_count": 31,
   "metadata": {},
   "outputs": [
    {
     "name": "stdout",
     "output_type": "stream",
     "text": [
      "Net RMS error in arcsec is  3.12302908302\n",
      "This is for test set\n"
     ]
    },
    {
     "data": {
      "image/png": "[encoded data removed]",
      "text/plain": [
       "<matplotlib.figure.Figure at 0x7fa1d6c33e48>"
      ]
     },
     "metadata": {},
     "output_type": "display_data"
    }
   ],
   "source": [
    "print(\"Net RMS error in arcsec is \", np.sqrt(np.square(dist_h_RMS) + np.square(dist_v_RMS))*3600)\n",
    "print(\"This is for test set\")\n",
    "    \n",
    "fig = plt.figure()\n",
    "ax = fig.add_subplot(111)\n",
    "ax.set_xlim(left=-0.6)\n",
    "#ax.set_ylim(bottom=0.0)\n",
    "ax.scatter((yt - y_predicted_test)*np.cos(dft.catalogue_alt)*3600, (zt - z_predicted_test)*3600)\n",
    "\n",
    "# circles of 4 arc sec accuracy and 10 arc sec accuracy\n",
    "circ1 = plt.Circle((0.0, 0.0), radius=3, color='g', fill=False)\n",
    "circ2 = plt.Circle((0.0, 0.0), radius=5, color='g', fill=False)\n",
    "ax.set_title('TESTING PERFORMANCE')\n",
    "ax.set_aspect('equal', adjustable='box')\n",
    "ax.set_xlim([-10, 10])\n",
    "ax.set_ylim([-10, 10])\n",
    "ax.set_xlabel('horizontal in arcsec')\n",
    "ax.set_ylabel('vertical in arcsec')\n",
    "ax.text(0.65, 2.95, '3.0', color='green', fontsize=13)\n",
    "ax.text(0.65, 5.2, '5.0', color='green', fontsize=13)\n",
    "ax.add_artist(circ1)\n",
    "ax.add_artist(circ2)\n",
    "plt.show()"
   ]
  },
  {
   "cell_type": "code",
   "execution_count": 32,
   "metadata": {},
   "outputs": [
    {
     "data": {
      "image/png": "[encoded data removed]",
      "text/plain": [
       "<matplotlib.figure.Figure at 0x7fa1d6d0f668>"
      ]
     },
     "metadata": {},
     "output_type": "display_data"
    },
    {
     "name": "stdout",
     "output_type": "stream",
     "text": [
      "While training net error in arc sec is : 0.797283906911\n"
     ]
    }
   ],
   "source": [
    "fig = plt.figure()\n",
    "ax = fig.add_subplot(111)\n",
    "ax.set_xlim(left=-0.6)\n",
    "#ax.set_ylim(bottom=0.0)\n",
    "ax.scatter((y - y_predicted_training)*np.cos(df.obs_alt)*3600, (z - z_predicted_training)*3600)\n",
    "\n",
    "# circles of 4 arc sec accuracy and 10 arc sec accuracy\n",
    "circ1 = plt.Circle((0.0, 0.0), radius=2, color='g', fill=False)\n",
    "circ2 = plt.Circle((0.0, 0.0), radius=0.8, color='g', fill=False)\n",
    "ax.set_title('TRAINING PERFORMANCE')\n",
    "ax.set_aspect('equal', adjustable='box')\n",
    "ax.set_xlim([-4, 4])\n",
    "ax.set_ylim([-4, 4])\n",
    "ax.set_xlabel('horizontal in arcsec')\n",
    "ax.set_ylabel('vertical in arcsec')\n",
    "ax.text(0.65, 0.75, '0.8', color='green', fontsize=13)\n",
    "ax.text(0.65, 2.0, '2.0', color='green', fontsize=13)\n",
    "ax.add_artist(circ1)\n",
    "ax.add_artist(circ2)\n",
    "plt.show()\n",
    "\n",
    "# RMS Error for training set\n",
    "h_ms_train = np.mean(np.square((y - y_predicted_training)*np.cos(df.obs_alt)))\n",
    "v_ms_train = np.mean(np.square(z - z_predicted_training))\n",
    "\n",
    "train_RMS = np.sqrt(h_ms_train + v_ms_train)*3600\n",
    "print(\"While training net error in arc sec is :\", train_RMS)"
   ]
  },
  {
   "cell_type": "code",
   "execution_count": 33,
   "metadata": {},
   "outputs": [
    {
     "name": "stdout",
     "output_type": "stream",
     "text": [
      "While training net error in arc sec is : 0.797283906911\n"
     ]
    }
   ],
   "source": [
    "# RMS Error for training set\n",
    "h_ms_train = np.mean(np.square((y - y_predicted_training)*np.cos(df.obs_alt)))\n",
    "v_ms_train = np.mean(np.square(z - z_predicted_training))\n",
    "\n",
    "train_RMS = np.sqrt(h_ms_train + v_ms_train)*3600\n",
    "print(\"While training net error in arc sec is :\", train_RMS)"
   ]
  },
  {
   "cell_type": "code",
   "execution_count": 46,
   "metadata": {
    "collapsed": true
   },
   "outputs": [],
   "source": [
    "X_copy = X"
   ]
  },
  {
   "cell_type": "code",
   "execution_count": 51,
   "metadata": {
    "collapsed": true
   },
   "outputs": [],
   "source": [
    "X_copy = np.insert(X_copy, 0, 1.0, axis=1)"
   ]
  },
  {
   "cell_type": "code",
   "execution_count": 68,
   "metadata": {},
   "outputs": [
    {
     "name": "stdout",
     "output_type": "stream",
     "text": [
      "[[  1.21843591e-07  -8.96605610e-09  -6.48072723e-09 ...,  -6.65160753e-09\n",
      "   -1.07090928e-08  -6.27440518e-09]\n",
      " [ -8.96605610e-09   1.19517573e-07  -7.58409635e-09 ...,   1.01085343e-10\n",
      "   -9.65406277e-13   2.79723889e-09]\n",
      " [ -6.48072723e-09  -7.58409635e-09   1.26285381e-07 ...,  -3.69469246e-09\n",
      "   -2.18815739e-09  -6.32459816e-10]\n",
      " ..., \n",
      " [ -6.65160753e-09   1.01085343e-10  -3.69469246e-09 ...,   1.16132223e-07\n",
      "   -1.74059619e-08  -1.85970892e-08]\n",
      " [ -1.07090928e-08  -9.65406277e-13  -2.18815739e-09 ...,  -1.74059619e-08\n",
      "    1.00892663e-07  -2.83368468e-08]\n",
      " [ -6.27440518e-09   2.79723889e-09  -6.32459816e-10 ...,  -1.85970892e-08\n",
      "   -2.83368468e-08   9.99583183e-08]]\n",
      "[  1.21843591e-07   1.19517573e-07   1.26285381e-07   1.20727466e-07\n",
      "   1.20190476e-07   1.13356113e-07   8.68858751e-08   1.13352237e-07\n",
      "   9.84059139e-08   1.18520356e-07   1.21015326e-07   1.22049633e-07\n",
      "   1.10619688e-07   1.06913807e-07   1.26908830e-07   2.61367794e-08\n",
      "   1.08620045e-07   1.18693919e-07   1.22862359e-07   1.20868045e-07\n",
      "   1.23780836e-07   1.20075374e-07   1.07239929e-07   1.16664202e-07\n",
      "   1.03206512e-07   1.21657717e-07   1.13322427e-07   9.17925847e-08\n",
      "   1.15360400e-07   1.19666203e-07   1.18051795e-07   1.19711177e-07\n",
      "   1.18452664e-07   1.22282372e-07   1.17320607e-07   1.24176300e-07\n",
      "   1.21246145e-07   1.20449469e-07   1.16132223e-07   1.00892663e-07\n",
      "   9.99583183e-08]\n"
     ]
    }
   ],
   "source": [
    "X_t = X_copy.T\n",
    "XXt_inv = np.linalg.inv(np.dot(X_t, X_copy))\n",
    "#print(XXt_inv.shape)\n",
    "H = np.dot(X_copy, np.dot(XXt_inv, X_t))\n",
    "MSE_y_train = (np.sum(np.square(y - y_predicted_training)) / (41 - 4 - 1) )\n",
    "var_res_y_train = (MSE_y_train)*(np.eye(41,41) - H)\n",
    "print(var_res_y_train)\n",
    "print(np.diagonal(var_res_y_train, axis1=0, axis2=1))"
   ]
  },
  {
   "cell_type": "code",
   "execution_count": 57,
   "metadata": {},
   "outputs": [
    {
     "data": {
      "text/plain": [
       "array([[ 1.,  0.,  0., ...,  0.,  0.,  0.],\n",
       "       [ 0.,  1.,  0., ...,  0.,  0.,  0.],\n",
       "       [ 0.,  0.,  1., ...,  0.,  0.,  0.],\n",
       "       ..., \n",
       "       [ 0.,  0.,  0., ...,  1.,  0.,  0.],\n",
       "       [ 0.,  0.,  0., ...,  0.,  1.,  0.],\n",
       "       [ 0.,  0.,  0., ...,  0.,  0.,  1.]])"
      ]
     },
     "execution_count": 57,
     "metadata": {},
     "output_type": "execute_result"
    }
   ],
   "source": [
    "# CONCLUSION ==> residuals behave very much like our assumption. ~ 0 mean, ~ constant variance, ~ independent"
   ]
  },
  {
   "cell_type": "code",
   "execution_count": 70,
   "metadata": {},
   "outputs": [
    {
     "data": {
      "text/plain": [
       "array([  2.10379149e-04,   1.42597385e-04,   2.58606208e-04,\n",
       "         5.67071740e-06,   4.56326236e-05,  -2.07278126e-05,\n",
       "        -2.00064289e-04,  -2.17792157e-04,  -1.60198657e-04,\n",
       "        -5.28157601e-05,   3.56156193e-04,   5.00243537e-04,\n",
       "         4.94692019e-04,   9.17154519e-05,   4.27428604e-04,\n",
       "         8.93292719e-05,  -3.87304201e-04,  -4.28400211e-05,\n",
       "         1.00870169e-04,   3.75955930e-04,   5.78788739e-04,\n",
       "         3.61544031e-04,  -4.94932891e-04,  -4.54447290e-04,\n",
       "        -2.20837389e-04,   2.77514991e-04,   4.40199233e-04,\n",
       "        -4.62314513e-05,  -2.81831685e-04,   1.42489826e-05,\n",
       "        -5.98488725e-05,  -4.17712206e-05,  -4.32589168e-05,\n",
       "        -2.43783213e-04,  -7.11866875e-04,  -8.97136959e-04,\n",
       "        -1.84716583e-04,  -4.10695910e-04,  -3.23479577e-04,\n",
       "         1.11049080e-04,   6.13959417e-04])"
      ]
     },
     "execution_count": 70,
     "metadata": {},
     "output_type": "execute_result"
    }
   ],
   "source": [
    "y - y_predicted_training"
   ]
  },
  {
   "cell_type": "code",
   "execution_count": 77,
   "metadata": {},
   "outputs": [
    {
     "data": {
      "image/png": "[encoded data removed]",
      "text/plain": [
       "<matplotlib.figure.Figure at 0x7fa1d67599b0>"
      ]
     },
     "metadata": {},
     "output_type": "display_data"
    }
   ],
   "source": [
    "from scipy import stats\n",
    "\n",
    "\n",
    "stats.probplot(y - y_predicted_training, dist='norm', plot=plt.figure().add_subplot(111))\n",
    "#plt.axis('equal')\n",
    "plt.show()\n",
    "\n",
    "# Approximately normally distributed residuals with bad outliers"
   ]
  },
  {
   "cell_type": "code",
   "execution_count": 107,
   "metadata": {},
   "outputs": [
    {
     "data": {
      "image/png": "[encoded data removed]",
      "text/plain": [
       "<matplotlib.figure.Figure at 0x7fa1d6d8dd68>"
      ]
     },
     "metadata": {},
     "output_type": "display_data"
    }
   ],
   "source": [
    "fig = plt.figure()\n",
    "ax = fig.add_subplot(111)\n",
    "dist_tuple = ax.hist((y - y_predicted_training), bins=20, color='green')\n",
    "#ax.set_xlim([-10, 10])\n",
    "#ax.set_ylim([0, 10])\n",
    "ax.set_title('Histogram for y => azimuth residuals')\n",
    "#ax.set_aspect('equal', adjustable='box')\n",
    "plt.show()"
   ]
  },
  {
   "cell_type": "code",
   "execution_count": 105,
   "metadata": {},
   "outputs": [
    {
     "data": {
      "image/png": "[encoded data removed]",
      "text/plain": [
       "<matplotlib.figure.Figure at 0x7fa1d6363f60>"
      ]
     },
     "metadata": {},
     "output_type": "display_data"
    }
   ],
   "source": [
    "fig = plt.figure()\n",
    "ax = fig.add_subplot(111)\n",
    "dist_tuple = ax.hist((z - z_predicted_training), bins=20, color='green')\n",
    "#ax.set_xlim([-5, 5])\n",
    "#ax.set_ylim([0, 10])\n",
    "ax.set_title('Histogram for z => altitude residuals')\n",
    "#ax.set_aspect('equal', adjustable='box')\n",
    "plt.show()"
   ]
  },
  {
   "cell_type": "code",
   "execution_count": 108,
   "metadata": {},
   "outputs": [
    {
     "data": {
      "image/png": "[encoded data removed]",
      "text/plain": [
       "<matplotlib.figure.Figure at 0x7fa1d6163a20>"
      ]
     },
     "metadata": {},
     "output_type": "display_data"
    }
   ],
   "source": [
    "stats.probplot(z - z_predicted_training, dist='norm', plot=plt.figure().add_subplot(111))\n",
    "#plt.axis('equal')\n",
    "plt.show()\n",
    "\n",
    "# severe deviations from normality."
   ]
  },
  {
   "cell_type": "code",
   "execution_count": null,
   "metadata": {
    "collapsed": true
   },
   "outputs": [],
   "source": []
  }
 ],
 "metadata": {
  "kernelspec": {
   "display_name": "Python 3",
   "language": "python",
   "name": "python3"
  },
  "language_info": {
   "codemirror_mode": {
    "name": "ipython",
    "version": 3
   },
   "file_extension": ".py",
   "mimetype": "text/x-python",
   "name": "python",
   "nbconvert_exporter": "python",
   "pygments_lexer": "ipython3",
   "version": "3.5.2"
  }
 },
 "nbformat": 4,
 "nbformat_minor": 2
}
