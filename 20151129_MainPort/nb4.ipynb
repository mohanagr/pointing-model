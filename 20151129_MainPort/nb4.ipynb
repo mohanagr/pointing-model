{
 "cells": [
  {
   "cell_type": "code",
   "execution_count": 275,
   "metadata": {},
   "outputs": [],
   "source": [
    "import pandas as pd\n",
    "import numpy as np\n",
    "import matplotlib.pyplot as plt\n",
    "from scipy import stats\n",
    "\n",
    "class Model():\n",
    "\n",
    "    def __init__(self, **kwargs):\n",
    "        self.terms = ['IA', 'IE', 'CA', 'NPAE', 'AW', 'AN', 'TF']\n",
    "        self.sky_rms = 0.0\n",
    "        self.model_date = None\n",
    "        self.total_geometric_terms = 0\n",
    "        self.total_terms = 0\n",
    "        self.total_obs = 0\n",
    "        if 'path' in kwargs:\n",
    "            self.read_model(kwargs['path']) \n",
    "\n",
    "    def read_model(self, path):\n",
    "        self.path = path\n",
    "        self.name = self.path.split('/')[-1].split('.')[0]\n",
    "        with open(path, 'r') as f:\n",
    "            lines = f.readlines()\n",
    "        _, self.model_date = lines[0].split(' ', 1)\n",
    "        dat = lines[1].split()\n",
    "        self.total_obs, self.sky_rms = [float(dat[i]) for i in range(1,3)]\n",
    "        self.total_obs = int(self.total_obs)\n",
    "        lines = lines[2:-1]\n",
    "        \n",
    "        d = {}\n",
    "        for i, line in enumerate(lines):\n",
    "            term, val, std = line.strip().split()\n",
    "            d[term] = np.array([float(val), float(std)])\n",
    "            if term in self.terms:\n",
    "                self.total_geometric_terms += 1\n",
    "            self.total_terms += 1\n",
    "        \n",
    "        self.full_frame = pd.DataFrame(d, index=['Value', 'SE']).T\n",
    "        df = self.full_frame.loc[self.terms]\n",
    "        self.frame = df\n",
    "\n",
    "    def show_model(self):\n",
    "        l = len('Sky RMS pointing accuracy    : {}'.format(self.sky_rms)) + 1\n",
    "        \n",
    "        print('No. of observations in model : ', self.total_obs)\n",
    "        print('No. of terms in model        : ', self.total_terms)\n",
    "        print('Sky RMS pointing accuracy    : ', self.sky_rms)\n",
    "        print('-'*l)\n",
    "        print(self.frame)\n",
    "        print('-'*l, '\\n')\n",
    "            \n",
    "    def compare_model(self, model, skip_constants=True, constants_only=False, full_compare=False):\n",
    "        \n",
    "        if constants_only:\n",
    "            df1 = self.frame.loc[['IE', 'IA']]\n",
    "            df2 = model.frame.loc[['IE', 'IA']]\n",
    "        elif skip_constants:\n",
    "            df1 = self.frame.drop(['IE', 'IA'])\n",
    "            df2 = model.frame.drop(['IE', 'IA'])\n",
    "        else:\n",
    "            df1 = self.frame\n",
    "            df2 = model.frame\n",
    "            \n",
    "        d = {'model1' : df1.iloc[:, 0], 'model2' : df2.iloc[:, 0]}\n",
    "        cmp = pd.DataFrame(d)\n",
    "        cmp['diff'] = d['model1'] - d['model2']\n",
    "        mod1 = self.name\n",
    "        mod2 = model.name\n",
    "        print('Model 1 is {} \\nModel 2 is {}'.format(mod1, mod2))\n",
    "        print(cmp)\n",
    "        \n",
    "    def show_bar(self, *models, skip_constants=True, constants_only=False):\n",
    "        \n",
    "        models = list(models)\n",
    "        frames = list()\n",
    "        bars = list()\n",
    "        mod_names = list()\n",
    "        for model in models:\n",
    "            if constants_only:\n",
    "                df1 = self.frame.loc[['IE', 'IA']]\n",
    "                df2 = model.frame.loc[['IE', 'IA']]\n",
    "            elif skip_constants:\n",
    "                df1 = self.frame.drop(['IE', 'IA'])\n",
    "                df2 = model.frame.drop(['IE', 'IA'])\n",
    "            else:\n",
    "                df1 = self.frame\n",
    "                df2 = model.frame\n",
    "            df2.fillna(0, inplace=True)\n",
    "            frames.append(df2)\n",
    "        \n",
    "        frames = [df1] + frames\n",
    "\n",
    "        models = [self] + models\n",
    "        \n",
    "        ind = np.arange(df1.shape[0])\n",
    "        width = 1/(len(frames)+1)\n",
    "        \n",
    "        fig, ax = plt.subplots()\n",
    "        fig.set_size_inches(10, 8)\n",
    "        ax.grid()\n",
    "        ax.set_xticks(ind + (len(frames)-1)*width/2)\n",
    "        ax.set_xticklabels(tuple(df1.index))\n",
    "        colors = ['b', 'r', 'y', 'g', 'm', 'c']\n",
    "        \n",
    "        for i, frame in enumerate(frames):\n",
    "            mod = models[i]\n",
    "            index = ind + i*width\n",
    "            yerr = frame.SE * stats.t.ppf(1-0.05/2,  mod.total_obs - mod.total_terms)\n",
    "            #print(frame.Value)\n",
    "            bar = ax.bar(index, frame.Value, width, color=colors[i], yerr=yerr)\n",
    "            bars.append(bar)\n",
    "        ax.legend([bar[0] for bar in bars], [model.name for model in models])\n",
    "        plt.show()\n",
    "        \n",
    "        "
   ]
  },
  {
   "cell_type": "code",
   "execution_count": 276,
   "metadata": {},
   "outputs": [],
   "source": [
    "m1 = Model(path='/home/mohan/projects/ARIES/data-folder-tcspc/pointing/20151129_MainPort/MainPort_20151129.mod')\n",
    "#m1.show_model()\n",
    "m2 = Model(path='/home/mohan/projects/ARIES/data-folder-tcspc/pointing/20151104_SP1/SidePort1_20151104.mod')\n",
    "#m1.show_model()\n",
    "#m2.compare_model(m1)"
   ]
  },
  {
   "cell_type": "code",
   "execution_count": 278,
   "metadata": {},
   "outputs": [
    {
     "name": "stdout",
     "output_type": "stream",
     "text": [
      "Model 1 is MainPort_20151129 \n",
      "Model 2 is Imager_20170320\n",
      "       model1   model2     diff\n",
      "CA     6.2033  24.8225 -18.6192\n",
      "NPAE  19.0718      NaN      NaN\n",
      "AW    25.2111  35.4935 -10.2824\n",
      "AN   -49.0799 -52.9430   3.8631\n",
      "TF   -50.4026 -52.2000   1.7974\n"
     ]
    },
    {
     "data": {
      "image/png": "[encoded data removed]",
      "text/plain": [
       "<matplotlib.figure.Figure at 0x7f5b20007748>"
      ]
     },
     "metadata": {},
     "output_type": "display_data"
    }
   ],
   "source": [
    "m3 = Model(path='/home/mohan/projects/ARIES/data-folder-tcspc/pointing/20151201_SidePort2/SidePort2_20151201.mod')\n",
    "m4 = Model(path='/home/mohan/Downloads/pointing/20170320_Imager/Imager_20170320.mod')\n",
    "m1.compare_model(m4)\n",
    "m1.show_bar(m2, m3,m4)"
   ]
  },
  {
   "cell_type": "code",
   "execution_count": null,
   "metadata": {},
   "outputs": [],
   "source": []
  },
  {
   "cell_type": "code",
   "execution_count": null,
   "metadata": {
    "collapsed": true
   },
   "outputs": [],
   "source": []
  }
 ],
 "metadata": {
  "kernelspec": {
   "display_name": "Python 3",
   "language": "python",
   "name": "python3"
  },
  "language_info": {
   "codemirror_mode": {
    "name": "ipython",
    "version": 3
   },
   "file_extension": ".py",
   "mimetype": "text/x-python",
   "name": "python",
   "nbconvert_exporter": "python",
   "pygments_lexer": "ipython3",
   "version": "3.5.2"
  }
 },
 "nbformat": 4,
 "nbformat_minor": 2
}
