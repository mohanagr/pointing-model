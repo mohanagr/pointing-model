{
 "cells": [
  {
   "cell_type": "code",
   "execution_count": 2,
   "metadata": {},
   "outputs": [
    {
     "name": "stdout",
     "output_type": "stream",
     "text": [
      "number of data points are 61\n"
     ]
    }
   ],
   "source": [
    "with open('201511291739-Copy1.dat') as f:\n",
    "    lines = f.readlines()\n",
    "b = list()\n",
    "print(\"number of data points are\", len(lines))\n",
    "for i, l in enumerate(lines):\n",
    "    a = [float(x) for x in l.strip().split(' ')]\n",
    "    #print(a)\n",
    "    alt_diff = a[3] - a[1]\n",
    "    az_diff = a[2] - a[0]\n",
    "    a.extend([alt_diff, az_diff]) # diff is observed - catalogue (left catalogue, right observed)\n",
    "    b.append(a)"
   ]
  },
  {
   "cell_type": "code",
   "execution_count": 7,
   "metadata": {},
   "outputs": [
    {
     "name": "stdout",
     "output_type": "stream",
     "text": [
      "saved training file\n",
      "saved test file\n"
     ]
    }
   ],
   "source": [
    "with open('trainingset.csv', 'w') as f:\n",
    "    print(\"catalogue_az,catalogue_alt,obs_az,obs_alt,alt_diff,az_diff\", file=f)\n",
    "    for i, row in enumerate(b):\n",
    "        print(','.join([str(entry) for entry in row]), file=f)\n",
    "        if i ==40:\n",
    "            break\n",
    "print('saved training file')\n",
    "with open('testset.csv', 'w') as f:\n",
    "    print(\"catalogue_az,catalogue_alt,obs_az,obs_alt,alt_diff,az_diff\", file=f)\n",
    "    for row in b[41:]:\n",
    "        print(','.join([str(entry) for entry in row]), file=f)\n",
    "print('saved test file')"
   ]
  },
  {
   "cell_type": "code",
   "execution_count": 8,
   "metadata": {},
   "outputs": [
    {
     "data": {
      "text/html": [
       "<div>\n",
       "<style>\n",
       "    .dataframe thead tr:only-child th {\n",
       "        text-align: right;\n",
       "    }\n",
       "\n",
       "    .dataframe thead th {\n",
       "        text-align: left;\n",
       "    }\n",
       "\n",
       "    .dataframe tbody tr th {\n",
       "        vertical-align: top;\n",
       "    }\n",
       "</style>\n",
       "<table border=\"1\" class=\"dataframe\">\n",
       "  <thead>\n",
       "    <tr style=\"text-align: right;\">\n",
       "      <th></th>\n",
       "      <th>catalogue_az</th>\n",
       "      <th>catalogue_alt</th>\n",
       "      <th>obs_az</th>\n",
       "      <th>obs_alt</th>\n",
       "      <th>alt_diff</th>\n",
       "      <th>az_diff</th>\n",
       "    </tr>\n",
       "  </thead>\n",
       "  <tbody>\n",
       "    <tr>\n",
       "      <th>0</th>\n",
       "      <td>321.943317</td>\n",
       "      <td>65.140715</td>\n",
       "      <td>322.798050</td>\n",
       "      <td>65.123063</td>\n",
       "      <td>-0.017652</td>\n",
       "      <td>0.854733</td>\n",
       "    </tr>\n",
       "    <tr>\n",
       "      <th>1</th>\n",
       "      <td>299.520591</td>\n",
       "      <td>61.034865</td>\n",
       "      <td>300.371422</td>\n",
       "      <td>61.022245</td>\n",
       "      <td>-0.012620</td>\n",
       "      <td>0.850831</td>\n",
       "    </tr>\n",
       "    <tr>\n",
       "      <th>2</th>\n",
       "      <td>313.308741</td>\n",
       "      <td>51.468686</td>\n",
       "      <td>314.147220</td>\n",
       "      <td>51.451696</td>\n",
       "      <td>-0.016990</td>\n",
       "      <td>0.838479</td>\n",
       "    </tr>\n",
       "    <tr>\n",
       "      <th>3</th>\n",
       "      <td>290.584998</td>\n",
       "      <td>51.775686</td>\n",
       "      <td>291.424639</td>\n",
       "      <td>51.764533</td>\n",
       "      <td>-0.011153</td>\n",
       "      <td>0.839641</td>\n",
       "    </tr>\n",
       "    <tr>\n",
       "      <th>4</th>\n",
       "      <td>280.146706</td>\n",
       "      <td>40.100441</td>\n",
       "      <td>280.977860</td>\n",
       "      <td>40.091546</td>\n",
       "      <td>-0.008895</td>\n",
       "      <td>0.831154</td>\n",
       "    </tr>\n",
       "  </tbody>\n",
       "</table>\n",
       "</div>"
      ],
      "text/plain": [
       "   catalogue_az  catalogue_alt      obs_az    obs_alt  alt_diff   az_diff\n",
       "0    321.943317      65.140715  322.798050  65.123063 -0.017652  0.854733\n",
       "1    299.520591      61.034865  300.371422  61.022245 -0.012620  0.850831\n",
       "2    313.308741      51.468686  314.147220  51.451696 -0.016990  0.838479\n",
       "3    290.584998      51.775686  291.424639  51.764533 -0.011153  0.839641\n",
       "4    280.146706      40.100441  280.977860  40.091546 -0.008895  0.831154"
      ]
     },
     "execution_count": 8,
     "metadata": {},
     "output_type": "execute_result"
    }
   ],
   "source": [
    "import pandas as pd\n",
    "df = pd.read_csv('trainingset.csv')\n",
    "df.head()"
   ]
  },
  {
   "cell_type": "code",
   "execution_count": 9,
   "metadata": {
    "collapsed": true
   },
   "outputs": [],
   "source": [
    "df.shape\n",
    "df.dtypes\n",
    "import matplotlib.pyplot as plt\n",
    "import numpy as np"
   ]
  },
  {
   "cell_type": "code",
   "execution_count": 11,
   "metadata": {},
   "outputs": [
    {
     "data": {
      "image/png": "[encoded data removed]",
      "text/plain": [
       "<matplotlib.figure.Figure at 0x7f6110f65080>"
      ]
     },
     "metadata": {},
     "output_type": "display_data"
    }
   ],
   "source": [
    "df.plot.scatter(x='catalogue_az', y='az_diff')\n",
    "plt.show()"
   ]
  },
  {
   "cell_type": "code",
   "execution_count": 59,
   "metadata": {},
   "outputs": [
    {
     "data": {
      "image/png": "[encoded data removed]",
      "text/plain": [
       "<matplotlib.figure.Figure at 0x7f9fbd003ba8>"
      ]
     },
     "metadata": {},
     "output_type": "display_data"
    }
   ],
   "source": [
    "df.plot.scatter(x='obs_alt', y='alt_diff')\n",
    "plt.show()"
   ]
  },
  {
   "cell_type": "code",
   "execution_count": 52,
   "metadata": {},
   "outputs": [
    {
     "data": {
      "image/png": "[encoded data removed]",
      "text/plain": [
       "<matplotlib.figure.Figure at 0x7f9fbd2fbcc0>"
      ]
     },
     "metadata": {},
     "output_type": "display_data"
    }
   ],
   "source": [
    "df.plot.scatter(x='catalogue_az', y='alt_diff')\n",
    "plt.show()"
   ]
  },
  {
   "cell_type": "code",
   "execution_count": 53,
   "metadata": {},
   "outputs": [
    {
     "data": {
      "image/png": "[encoded data removed]",
      "text/plain": [
       "<matplotlib.figure.Figure at 0x7f9fbd40deb8>"
      ]
     },
     "metadata": {},
     "output_type": "display_data"
    }
   ],
   "source": [
    "df.plot.scatter(x='catalogue_alt', y='az_diff')\n",
    "plt.show()"
   ]
  },
  {
   "cell_type": "code",
   "execution_count": 65,
   "metadata": {},
   "outputs": [
    {
     "data": {
      "text/html": [
       "<div>\n",
       "<style>\n",
       "    .dataframe thead tr:only-child th {\n",
       "        text-align: right;\n",
       "    }\n",
       "\n",
       "    .dataframe thead th {\n",
       "        text-align: left;\n",
       "    }\n",
       "\n",
       "    .dataframe tbody tr th {\n",
       "        vertical-align: top;\n",
       "    }\n",
       "</style>\n",
       "<table border=\"1\" class=\"dataframe\">\n",
       "  <thead>\n",
       "    <tr style=\"text-align: right;\">\n",
       "      <th></th>\n",
       "      <th>catalogue_az</th>\n",
       "      <th>catalogue_alt</th>\n",
       "      <th>obs_az</th>\n",
       "      <th>obs_alt</th>\n",
       "      <th>alt_diff</th>\n",
       "      <th>az_diff</th>\n",
       "    </tr>\n",
       "  </thead>\n",
       "  <tbody>\n",
       "    <tr>\n",
       "      <th>count</th>\n",
       "      <td>41.000000</td>\n",
       "      <td>41.000000</td>\n",
       "      <td>41.000000</td>\n",
       "      <td>41.000000</td>\n",
       "      <td>41.000000</td>\n",
       "      <td>41.000000</td>\n",
       "    </tr>\n",
       "    <tr>\n",
       "      <th>mean</th>\n",
       "      <td>172.561444</td>\n",
       "      <td>49.920428</td>\n",
       "      <td>173.383596</td>\n",
       "      <td>49.904817</td>\n",
       "      <td>-0.015611</td>\n",
       "      <td>0.822152</td>\n",
       "    </tr>\n",
       "    <tr>\n",
       "      <th>std</th>\n",
       "      <td>115.863462</td>\n",
       "      <td>16.977601</td>\n",
       "      <td>115.876888</td>\n",
       "      <td>16.978053</td>\n",
       "      <td>0.009070</td>\n",
       "      <td>0.024621</td>\n",
       "    </tr>\n",
       "    <tr>\n",
       "      <th>min</th>\n",
       "      <td>1.110432</td>\n",
       "      <td>18.389042</td>\n",
       "      <td>1.961796</td>\n",
       "      <td>18.389464</td>\n",
       "      <td>-0.029158</td>\n",
       "      <td>0.759347</td>\n",
       "    </tr>\n",
       "    <tr>\n",
       "      <th>25%</th>\n",
       "      <td>82.249012</td>\n",
       "      <td>36.674050</td>\n",
       "      <td>83.059016</td>\n",
       "      <td>36.659356</td>\n",
       "      <td>-0.024052</td>\n",
       "      <td>0.807679</td>\n",
       "    </tr>\n",
       "    <tr>\n",
       "      <th>50%</th>\n",
       "      <td>147.133974</td>\n",
       "      <td>51.775686</td>\n",
       "      <td>147.933937</td>\n",
       "      <td>51.764533</td>\n",
       "      <td>-0.016859</td>\n",
       "      <td>0.816589</td>\n",
       "    </tr>\n",
       "    <tr>\n",
       "      <th>75%</th>\n",
       "      <td>294.893625</td>\n",
       "      <td>65.140715</td>\n",
       "      <td>295.717277</td>\n",
       "      <td>65.123063</td>\n",
       "      <td>-0.008445</td>\n",
       "      <td>0.831450</td>\n",
       "    </tr>\n",
       "    <tr>\n",
       "      <th>max</th>\n",
       "      <td>349.392101</td>\n",
       "      <td>80.745721</td>\n",
       "      <td>350.223551</td>\n",
       "      <td>80.738942</td>\n",
       "      <td>0.000422</td>\n",
       "      <td>0.880618</td>\n",
       "    </tr>\n",
       "  </tbody>\n",
       "</table>\n",
       "</div>"
      ],
      "text/plain": [
       "       catalogue_az  catalogue_alt      obs_az    obs_alt   alt_diff  \\\n",
       "count     41.000000      41.000000   41.000000  41.000000  41.000000   \n",
       "mean     172.561444      49.920428  173.383596  49.904817  -0.015611   \n",
       "std      115.863462      16.977601  115.876888  16.978053   0.009070   \n",
       "min        1.110432      18.389042    1.961796  18.389464  -0.029158   \n",
       "25%       82.249012      36.674050   83.059016  36.659356  -0.024052   \n",
       "50%      147.133974      51.775686  147.933937  51.764533  -0.016859   \n",
       "75%      294.893625      65.140715  295.717277  65.123063  -0.008445   \n",
       "max      349.392101      80.745721  350.223551  80.738942   0.000422   \n",
       "\n",
       "         az_diff  \n",
       "count  41.000000  \n",
       "mean    0.822152  \n",
       "std     0.024621  \n",
       "min     0.759347  \n",
       "25%     0.807679  \n",
       "50%     0.816589  \n",
       "75%     0.831450  \n",
       "max     0.880618  "
      ]
     },
     "execution_count": 65,
     "metadata": {},
     "output_type": "execute_result"
    }
   ],
   "source": [
    "df.describe()"
   ]
  },
  {
   "cell_type": "code",
   "execution_count": 12,
   "metadata": {},
   "outputs": [
    {
     "data": {
      "text/html": [
       "<div>\n",
       "<style>\n",
       "    .dataframe thead tr:only-child th {\n",
       "        text-align: right;\n",
       "    }\n",
       "\n",
       "    .dataframe thead th {\n",
       "        text-align: left;\n",
       "    }\n",
       "\n",
       "    .dataframe tbody tr th {\n",
       "        vertical-align: top;\n",
       "    }\n",
       "</style>\n",
       "<table border=\"1\" class=\"dataframe\">\n",
       "  <thead>\n",
       "    <tr style=\"text-align: right;\">\n",
       "      <th></th>\n",
       "      <th>catalogue_az</th>\n",
       "      <th>catalogue_alt</th>\n",
       "      <th>obs_az</th>\n",
       "      <th>obs_alt</th>\n",
       "      <th>alt_diff</th>\n",
       "      <th>az_diff</th>\n",
       "    </tr>\n",
       "  </thead>\n",
       "  <tbody>\n",
       "    <tr>\n",
       "      <th>catalogue_az</th>\n",
       "      <td>1.000000</td>\n",
       "      <td>0.024698</td>\n",
       "      <td>1.000000</td>\n",
       "      <td>0.024871</td>\n",
       "      <td>0.325689</td>\n",
       "      <td>0.545227</td>\n",
       "    </tr>\n",
       "    <tr>\n",
       "      <th>catalogue_alt</th>\n",
       "      <td>0.024698</td>\n",
       "      <td>1.000000</td>\n",
       "      <td>0.024742</td>\n",
       "      <td>1.000000</td>\n",
       "      <td>0.049611</td>\n",
       "      <td>0.218616</td>\n",
       "    </tr>\n",
       "    <tr>\n",
       "      <th>obs_az</th>\n",
       "      <td>1.000000</td>\n",
       "      <td>0.024742</td>\n",
       "      <td>1.000000</td>\n",
       "      <td>0.024915</td>\n",
       "      <td>0.325617</td>\n",
       "      <td>0.545376</td>\n",
       "    </tr>\n",
       "    <tr>\n",
       "      <th>obs_alt</th>\n",
       "      <td>0.024871</td>\n",
       "      <td>1.000000</td>\n",
       "      <td>0.024915</td>\n",
       "      <td>1.000000</td>\n",
       "      <td>0.050144</td>\n",
       "      <td>0.218524</td>\n",
       "    </tr>\n",
       "    <tr>\n",
       "      <th>alt_diff</th>\n",
       "      <td>0.325689</td>\n",
       "      <td>0.049611</td>\n",
       "      <td>0.325617</td>\n",
       "      <td>0.050144</td>\n",
       "      <td>1.000000</td>\n",
       "      <td>-0.161170</td>\n",
       "    </tr>\n",
       "    <tr>\n",
       "      <th>az_diff</th>\n",
       "      <td>0.545227</td>\n",
       "      <td>0.218616</td>\n",
       "      <td>0.545376</td>\n",
       "      <td>0.218524</td>\n",
       "      <td>-0.161170</td>\n",
       "      <td>1.000000</td>\n",
       "    </tr>\n",
       "  </tbody>\n",
       "</table>\n",
       "</div>"
      ],
      "text/plain": [
       "               catalogue_az  catalogue_alt    obs_az   obs_alt  alt_diff  \\\n",
       "catalogue_az       1.000000       0.024698  1.000000  0.024871  0.325689   \n",
       "catalogue_alt      0.024698       1.000000  0.024742  1.000000  0.049611   \n",
       "obs_az             1.000000       0.024742  1.000000  0.024915  0.325617   \n",
       "obs_alt            0.024871       1.000000  0.024915  1.000000  0.050144   \n",
       "alt_diff           0.325689       0.049611  0.325617  0.050144  1.000000   \n",
       "az_diff            0.545227       0.218616  0.545376  0.218524 -0.161170   \n",
       "\n",
       "                az_diff  \n",
       "catalogue_az   0.545227  \n",
       "catalogue_alt  0.218616  \n",
       "obs_az         0.545376  \n",
       "obs_alt        0.218524  \n",
       "alt_diff      -0.161170  \n",
       "az_diff        1.000000  "
      ]
     },
     "execution_count": 12,
     "metadata": {},
     "output_type": "execute_result"
    }
   ],
   "source": [
    "df.corr()"
   ]
  },
  {
   "cell_type": "code",
   "execution_count": 13,
   "metadata": {
    "collapsed": true
   },
   "outputs": [],
   "source": [
    "from sklearn import linear_model, metrics"
   ]
  },
  {
   "cell_type": "code",
   "execution_count": null,
   "metadata": {
    "collapsed": true
   },
   "outputs": [],
   "source": []
  },
  {
   "cell_type": "code",
   "execution_count": 14,
   "metadata": {},
   "outputs": [
    {
     "name": "stdout",
     "output_type": "stream",
     "text": [
      "(41, 4)\n"
     ]
    },
    {
     "data": {
      "text/html": [
       "<div>\n",
       "<style>\n",
       "    .dataframe thead tr:only-child th {\n",
       "        text-align: right;\n",
       "    }\n",
       "\n",
       "    .dataframe thead th {\n",
       "        text-align: left;\n",
       "    }\n",
       "\n",
       "    .dataframe tbody tr th {\n",
       "        vertical-align: top;\n",
       "    }\n",
       "</style>\n",
       "<table border=\"1\" class=\"dataframe\">\n",
       "  <thead>\n",
       "    <tr style=\"text-align: right;\">\n",
       "      <th></th>\n",
       "      <th>X1</th>\n",
       "      <th>X2</th>\n",
       "      <th>X3</th>\n",
       "      <th>X4</th>\n",
       "    </tr>\n",
       "  </thead>\n",
       "  <tbody>\n",
       "    <tr>\n",
       "      <th>0</th>\n",
       "      <td>2.378737</td>\n",
       "      <td>2.158330</td>\n",
       "      <td>1.699472</td>\n",
       "      <td>-1.330483</td>\n",
       "    </tr>\n",
       "    <tr>\n",
       "      <th>1</th>\n",
       "      <td>2.064933</td>\n",
       "      <td>1.806640</td>\n",
       "      <td>0.890197</td>\n",
       "      <td>-1.572099</td>\n",
       "    </tr>\n",
       "    <tr>\n",
       "      <th>2</th>\n",
       "      <td>1.605285</td>\n",
       "      <td>1.255763</td>\n",
       "      <td>0.861365</td>\n",
       "      <td>-0.913779</td>\n",
       "    </tr>\n",
       "    <tr>\n",
       "      <th>3</th>\n",
       "      <td>1.616183</td>\n",
       "      <td>1.269664</td>\n",
       "      <td>0.446410</td>\n",
       "      <td>-1.188598</td>\n",
       "    </tr>\n",
       "    <tr>\n",
       "      <th>4</th>\n",
       "      <td>1.307332</td>\n",
       "      <td>0.842091</td>\n",
       "      <td>0.148351</td>\n",
       "      <td>-0.828921</td>\n",
       "    </tr>\n",
       "  </tbody>\n",
       "</table>\n",
       "</div>"
      ],
      "text/plain": [
       "         X1        X2        X3        X4\n",
       "0  2.378737  2.158330  1.699472 -1.330483\n",
       "1  2.064933  1.806640  0.890197 -1.572099\n",
       "2  1.605285  1.255763  0.861365 -0.913779\n",
       "3  1.616183  1.269664  0.446410 -1.188598\n",
       "4  1.307332  0.842091  0.148351 -0.828921"
      ]
     },
     "execution_count": 14,
     "metadata": {},
     "output_type": "execute_result"
    }
   ],
   "source": [
    "X1 = -1.0/np.cos(np.radians(list(df['catalogue_alt'])))\n",
    "X2 = -1.0*np.tan(np.radians(list(df['catalogue_alt'])))\n",
    "X3 = -1.0*np.cos(np.radians(list(df['catalogue_az']))) * np.tan(np.radians(list(df['catalogue_alt'])))\n",
    "X4 = np.sin(np.radians(list(df['catalogue_az']))) * np.tan(np.radians(list(df['catalogue_alt'])))\n",
    "X = np.array([X1, X2, X3, X4])\n",
    "X = X.T\n",
    "print(X.shape)\n",
    "df2 = pd.DataFrame(X, columns=['X1', 'X2', 'X3', 'X4'])\n",
    "df2.head()"
   ]
  },
  {
   "cell_type": "code",
   "execution_count": 17,
   "metadata": {},
   "outputs": [
    {
     "data": {
      "text/html": [
       "<div>\n",
       "<style>\n",
       "    .dataframe thead tr:only-child th {\n",
       "        text-align: right;\n",
       "    }\n",
       "\n",
       "    .dataframe thead th {\n",
       "        text-align: left;\n",
       "    }\n",
       "\n",
       "    .dataframe tbody tr th {\n",
       "        vertical-align: top;\n",
       "    }\n",
       "</style>\n",
       "<table border=\"1\" class=\"dataframe\">\n",
       "  <thead>\n",
       "    <tr style=\"text-align: right;\">\n",
       "      <th></th>\n",
       "      <th>catalogue_az</th>\n",
       "      <th>catalogue_alt</th>\n",
       "      <th>obs_az</th>\n",
       "      <th>obs_alt</th>\n",
       "      <th>alt_diff</th>\n",
       "      <th>az_diff</th>\n",
       "    </tr>\n",
       "  </thead>\n",
       "  <tbody>\n",
       "    <tr>\n",
       "      <th>0</th>\n",
       "      <td>321.943317</td>\n",
       "      <td>65.140715</td>\n",
       "      <td>322.798050</td>\n",
       "      <td>65.123063</td>\n",
       "      <td>-0.017652</td>\n",
       "      <td>0.854733</td>\n",
       "    </tr>\n",
       "    <tr>\n",
       "      <th>1</th>\n",
       "      <td>299.520591</td>\n",
       "      <td>61.034865</td>\n",
       "      <td>300.371422</td>\n",
       "      <td>61.022245</td>\n",
       "      <td>-0.012620</td>\n",
       "      <td>0.850831</td>\n",
       "    </tr>\n",
       "    <tr>\n",
       "      <th>2</th>\n",
       "      <td>313.308741</td>\n",
       "      <td>51.468686</td>\n",
       "      <td>314.147220</td>\n",
       "      <td>51.451696</td>\n",
       "      <td>-0.016990</td>\n",
       "      <td>0.838479</td>\n",
       "    </tr>\n",
       "    <tr>\n",
       "      <th>3</th>\n",
       "      <td>290.584998</td>\n",
       "      <td>51.775686</td>\n",
       "      <td>291.424639</td>\n",
       "      <td>51.764533</td>\n",
       "      <td>-0.011153</td>\n",
       "      <td>0.839641</td>\n",
       "    </tr>\n",
       "    <tr>\n",
       "      <th>4</th>\n",
       "      <td>280.146706</td>\n",
       "      <td>40.100441</td>\n",
       "      <td>280.977860</td>\n",
       "      <td>40.091546</td>\n",
       "      <td>-0.008895</td>\n",
       "      <td>0.831154</td>\n",
       "    </tr>\n",
       "  </tbody>\n",
       "</table>\n",
       "</div>"
      ],
      "text/plain": [
       "   catalogue_az  catalogue_alt      obs_az    obs_alt  alt_diff   az_diff\n",
       "0    321.943317      65.140715  322.798050  65.123063 -0.017652  0.854733\n",
       "1    299.520591      61.034865  300.371422  61.022245 -0.012620  0.850831\n",
       "2    313.308741      51.468686  314.147220  51.451696 -0.016990  0.838479\n",
       "3    290.584998      51.775686  291.424639  51.764533 -0.011153  0.839641\n",
       "4    280.146706      40.100441  280.977860  40.091546 -0.008895  0.831154"
      ]
     },
     "execution_count": 17,
     "metadata": {},
     "output_type": "execute_result"
    }
   ],
   "source": [
    "df.head()"
   ]
  },
  {
   "cell_type": "code",
   "execution_count": 61,
   "metadata": {},
   "outputs": [
    {
     "data": {
      "image/png": "[encoded data removed]",
      "text/plain": [
       "<matplotlib.figure.Figure at 0x7f8639b88ac8>"
      ]
     },
     "metadata": {},
     "output_type": "display_data"
    }
   ],
   "source": [
    "plt.plot(X4, df.az_diff, 'bo')\n",
    "plt.show()"
   ]
  },
  {
   "cell_type": "code",
   "execution_count": 76,
   "metadata": {
    "collapsed": true
   },
   "outputs": [],
   "source": [
    "y = np.array(df.az_diff)\n",
    "regr = linear_model.LinearRegression()\n",
    "regr.fit(X, y)\n",
    "y_predicted_training = regr.predict(X)"
   ]
  },
  {
   "cell_type": "code",
   "execution_count": 69,
   "metadata": {},
   "outputs": [
    {
     "data": {
      "text/plain": [
       "array([ 0.01365292, -0.00605526,  0.0065326 , -0.01395032])"
      ]
     },
     "execution_count": 69,
     "metadata": {},
     "output_type": "execute_result"
    }
   ],
   "source": [
    "regr.coef_"
   ]
  },
  {
   "cell_type": "code",
   "execution_count": 70,
   "metadata": {},
   "outputs": [
    {
     "data": {
      "text/plain": [
       "0.80550732669946234"
      ]
     },
     "execution_count": 70,
     "metadata": {},
     "output_type": "execute_result"
    }
   ],
   "source": [
    "regr.intercept_"
   ]
  },
  {
   "cell_type": "code",
   "execution_count": 80,
   "metadata": {},
   "outputs": [
    {
     "data": {
      "image/png": "[encoded data removed]",
      "text/plain": [
       "<matplotlib.figure.Figure at 0x7f8639bf55f8>"
      ]
     },
     "metadata": {},
     "output_type": "display_data"
    }
   ],
   "source": [
    "plt.plot(y_predicted_training, y - y_predicted_training, 'bo')\n",
    "plt.show()"
   ]
  },
  {
   "cell_type": "code",
   "execution_count": 74,
   "metadata": {},
   "outputs": [
    {
     "data": {
      "text/plain": [
       "0.99970326380150731"
      ]
     },
     "execution_count": 74,
     "metadata": {},
     "output_type": "execute_result"
    }
   ],
   "source": [
    "regr.score(X, y) # Gives R^2 (no easy way in sklearn for p-value and F-statistic)"
   ]
  },
  {
   "cell_type": "code",
   "execution_count": 85,
   "metadata": {},
   "outputs": [
    {
     "name": "stderr",
     "output_type": "stream",
     "text": [
      "/usr/local/lib/python3.4/dist-packages/sklearn/utils/deprecation.py:70: DeprecationWarning: Function residues_ is deprecated; ``residues_`` is deprecated and will be removed in 0.19\n",
      "  warnings.warn(msg, category=DeprecationWarning)\n"
     ]
    },
    {
     "data": {
      "text/plain": [
       "7.1952380308752216e-06"
      ]
     },
     "execution_count": 85,
     "metadata": {},
     "output_type": "execute_result"
    }
   ],
   "source": [
    "RSS = np.sum(np.square(y - y_predicted_training))\n",
    "regr.residues_"
   ]
  },
  {
   "cell_type": "code",
   "execution_count": 88,
   "metadata": {},
   "outputs": [
    {
     "name": "stdout",
     "output_type": "stream",
     "text": [
      "0.000447065680946\n"
     ]
    }
   ],
   "source": [
    "RSE = np.sqrt(RSS/(41-4-1)) # RSE = sqrt(RSS/(n-p-1))\n",
    "print(RSE)"
   ]
  },
  {
   "cell_type": "code",
   "execution_count": 89,
   "metadata": {},
   "outputs": [
    {
     "data": {
      "text/plain": [
       "0.99970326380150731"
      ]
     },
     "execution_count": 89,
     "metadata": {},
     "output_type": "execute_result"
    }
   ],
   "source": [
    "metrics.r2_score(y, y_predicted_training)~"
   ]
  },
  {
   "cell_type": "code",
   "execution_count": 90,
   "metadata": {},
   "outputs": [
    {
     "data": {
      "text/plain": [
       "(array([  8.89595292e-02,   2.14035921e-01,   6.29890538e+01,\n",
       "          1.78607648e+02]),\n",
       " array([  7.67087420e-01,   6.46193337e-01,   1.15052137e-09,\n",
       "          3.84893405e-16]))"
      ]
     },
     "execution_count": 90,
     "metadata": {},
     "output_type": "execute_result"
    }
   ],
   "source": [
    "from sklearn import feature_selection\n",
    "feature_selection.f_regression(X,y)"
   ]
  },
  {
   "cell_type": "code",
   "execution_count": 93,
   "metadata": {},
   "outputs": [
    {
     "name": "stdout",
     "output_type": "stream",
     "text": [
      "30320.9700061\n"
     ]
    }
   ],
   "source": [
    "TSS = np.sum(np.square(y-np.mean(y)))\n",
    "f_stat = ((TSS-RSS)/4)/(RSS/(41-4-1))\n",
    "print(f_stat)"
   ]
  },
  {
   "cell_type": "code",
   "execution_count": 16,
   "metadata": {
    "scrolled": false
   },
   "outputs": [
    {
     "name": "stdout",
     "output_type": "stream",
     "text": [
      "RSS is :  7.64280362542e-06\n",
      "RSE is :  0.000460760350623\n",
      "R^2 score is :  0.99909350554\n",
      "F-statistic is :  9919.35632168\n"
     ]
    },
    {
     "name": "stderr",
     "output_type": "stream",
     "text": [
      "/usr/local/lib/python3.4/dist-packages/sklearn/utils/deprecation.py:70: DeprecationWarning: Function residues_ is deprecated; ``residues_`` is deprecated and will be removed in 0.19\n",
      "  warnings.warn(msg, category=DeprecationWarning)\n"
     ]
    },
    {
     "data": {
      "image/png": "[encoded data removed]",
      "text/plain": [
       "<matplotlib.figure.Figure at 0x7f60fc0d0b38>"
      ]
     },
     "metadata": {},
     "output_type": "display_data"
    }
   ],
   "source": [
    "# repeating above steps for test file - t suffix is for test\n",
    "dft = pd.read_csv('testset.csv')\n",
    "X1t = 1.0/np.cos(np.radians(list(dft['catalogue_alt'])))\n",
    "X2t = np.tan(np.radians(list(dft['catalogue_alt'])))\n",
    "X3t = np.cos(np.radians(list(dft['catalogue_az']))) * np.tan(np.radians(list(dft['catalogue_alt'])))\n",
    "X4t = np.sin(np.radians(list(dft['catalogue_az']))) * np.tan(np.radians(list(dft['catalogue_alt'])))\n",
    "Xt = np.array([X1t, X2t, X3t, X4t])\n",
    "Xt = Xt.T\n",
    "#print(Xt.shape)\n",
    "yt = np.array(dft.az_diff)\n",
    "regr2 = linear_model.LinearRegression()\n",
    "regr2.fit(Xt, yt)\n",
    "y_predicted_test = regr2.predict(Xt)\n",
    "\n",
    "RSS = regr2.residues_\n",
    "print(\"RSS is : \", RSS)\n",
    "RSE = np.sqrt(RSS/(41-4-1)) # RSE = sqrt(RSS/(n-p-1))\n",
    "print(\"RSE is : \", RSE)\n",
    "print(\"R^2 score is : \", regr2.score(Xt,yt))\n",
    "TSS = np.sum(np.square(yt-np.mean(yt)))\n",
    "f_stat = ((TSS-RSS)/4)/(RSS/(41-4-1))\n",
    "print(\"F-statistic is : \", f_stat)\n",
    "plt.plot(y_predicted_test, yt - y_predicted_test, 'bo')\n",
    "plt.show()"
   ]
  },
  {
   "cell_type": "code",
   "execution_count": 33,
   "metadata": {},
   "outputs": [
    {
     "data": {
      "text/plain": [
       "9.9524235734523785"
      ]
     },
     "execution_count": 33,
     "metadata": {},
     "output_type": "execute_result"
    }
   ],
   "source": [
    "RMS = np.sqrt(RSS)\n",
    "pacc = RMS*3600 # Accuracy of azimuth in arc seconds\n",
    "pacc"
   ]
  },
  {
   "cell_type": "code",
   "execution_count": 31,
   "metadata": {},
   "outputs": [
    {
     "name": "stdout",
     "output_type": "stream",
     "text": [
      "1864.26975608\n"
     ]
    },
    {
     "data": {
      "text/plain": [
       "0.26817142927844273"
      ]
     },
     "execution_count": 31,
     "metadata": {},
     "output_type": "execute_result"
    }
   ],
   "source": [
    "rmsacc = np.sqrt(np.mean(np.square(y_predicted_test*np.cos(dft['catalogue_alt']))))\n",
    "print(rmsacc*3600)\n",
    "np.mean(np.square(y_predicted_test*np.cos(dft['catalogue_alt'])))"
   ]
  },
  {
   "cell_type": "code",
   "execution_count": null,
   "metadata": {
    "collapsed": true
   },
   "outputs": [],
   "source": []
  }
 ],
 "metadata": {
  "kernelspec": {
   "display_name": "Python 3",
   "language": "python",
   "name": "python3"
  },
  "language_info": {
   "codemirror_mode": {
    "name": "ipython",
    "version": 3
   },
   "file_extension": ".py",
   "mimetype": "text/x-python",
   "name": "python",
   "nbconvert_exporter": "python",
   "pygments_lexer": "ipython3",
   "version": "3.4.3+"
  }
 },
 "nbformat": 4,
 "nbformat_minor": 2
}
